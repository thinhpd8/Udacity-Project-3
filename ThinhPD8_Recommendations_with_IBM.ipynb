{
 "cells": [
  {
   "cell_type": "markdown",
   "metadata": {},
   "source": [
    "# Recommendations with IBM\n",
    "\n",
    "In this notebook, you will be putting your recommendation skills to use on real data from the IBM Watson Studio platform. \n",
    "\n",
    "\n",
    "You may either submit your notebook through the workspace here, or you may work from your local machine and submit through the next page.  Either way assure that your code passes the project [RUBRIC](https://review.udacity.com/#!/rubrics/3325/view).  **Please save regularly.**\n",
    "\n",
    "By following the table of contents, you will build out a number of different methods for making recommendations that can be used for different situations. \n",
    "\n",
    "\n",
    "## Table of Contents\n",
    "\n",
    "I. [Exploratory Data Analysis](#Exploratory-Data-Analysis)<br>\n",
    "II. [Rank Based Recommendations](#Rank)<br>\n",
    "III. [User-User Based Collaborative Filtering](#User-User)<br>\n",
    "IV. [Content Based Recommendations (EXTRA - NOT REQUIRED)](#Content-Recs)<br>\n",
    "V. [Matrix Factorization](#Matrix-Fact)<br>\n",
    "VI. [Extras & Concluding](#conclusions)\n",
    "\n",
    "At the end of the notebook, you will find directions for how to submit your work.  Let's get started by importing the necessary libraries and reading in the data."
   ]
  },
  {
   "cell_type": "code",
   "execution_count": 2,
   "metadata": {},
   "outputs": [
    {
     "data": {
      "text/html": [
       "<div>\n",
       "<style scoped>\n",
       "    .dataframe tbody tr th:only-of-type {\n",
       "        vertical-align: middle;\n",
       "    }\n",
       "\n",
       "    .dataframe tbody tr th {\n",
       "        vertical-align: top;\n",
       "    }\n",
       "\n",
       "    .dataframe thead th {\n",
       "        text-align: right;\n",
       "    }\n",
       "</style>\n",
       "<table border=\"1\" class=\"dataframe\">\n",
       "  <thead>\n",
       "    <tr style=\"text-align: right;\">\n",
       "      <th></th>\n",
       "      <th>article_id</th>\n",
       "      <th>title</th>\n",
       "      <th>email</th>\n",
       "    </tr>\n",
       "  </thead>\n",
       "  <tbody>\n",
       "    <tr>\n",
       "      <th>0</th>\n",
       "      <td>1430.0</td>\n",
       "      <td>using pixiedust for fast, flexible, and easier...</td>\n",
       "      <td>ef5f11f77ba020cd36e1105a00ab868bbdbf7fe7</td>\n",
       "    </tr>\n",
       "    <tr>\n",
       "      <th>1</th>\n",
       "      <td>1314.0</td>\n",
       "      <td>healthcare python streaming application demo</td>\n",
       "      <td>083cbdfa93c8444beaa4c5f5e0f5f9198e4f9e0b</td>\n",
       "    </tr>\n",
       "    <tr>\n",
       "      <th>2</th>\n",
       "      <td>1429.0</td>\n",
       "      <td>use deep learning for image classification</td>\n",
       "      <td>b96a4f2e92d8572034b1e9b28f9ac673765cd074</td>\n",
       "    </tr>\n",
       "    <tr>\n",
       "      <th>3</th>\n",
       "      <td>1338.0</td>\n",
       "      <td>ml optimization using cognitive assistant</td>\n",
       "      <td>06485706b34a5c9bf2a0ecdac41daf7e7654ceb7</td>\n",
       "    </tr>\n",
       "    <tr>\n",
       "      <th>4</th>\n",
       "      <td>1276.0</td>\n",
       "      <td>deploy your python model as a restful api</td>\n",
       "      <td>f01220c46fc92c6e6b161b1849de11faacd7ccb2</td>\n",
       "    </tr>\n",
       "  </tbody>\n",
       "</table>\n",
       "</div>"
      ],
      "text/plain": [
       "   article_id                                              title  \\\n",
       "0      1430.0  using pixiedust for fast, flexible, and easier...   \n",
       "1      1314.0       healthcare python streaming application demo   \n",
       "2      1429.0         use deep learning for image classification   \n",
       "3      1338.0          ml optimization using cognitive assistant   \n",
       "4      1276.0          deploy your python model as a restful api   \n",
       "\n",
       "                                      email  \n",
       "0  ef5f11f77ba020cd36e1105a00ab868bbdbf7fe7  \n",
       "1  083cbdfa93c8444beaa4c5f5e0f5f9198e4f9e0b  \n",
       "2  b96a4f2e92d8572034b1e9b28f9ac673765cd074  \n",
       "3  06485706b34a5c9bf2a0ecdac41daf7e7654ceb7  \n",
       "4  f01220c46fc92c6e6b161b1849de11faacd7ccb2  "
      ]
     },
     "execution_count": 2,
     "metadata": {},
     "output_type": "execute_result"
    }
   ],
   "source": [
    "import pandas as pd\n",
    "import numpy as np\n",
    "import matplotlib.pyplot as plt\n",
    "import project_tests as t\n",
    "import pickle\n",
    "\n",
    "%matplotlib inline\n",
    "\n",
    "df = pd.read_csv('data/user-item-interactions.csv')\n",
    "df_content = pd.read_csv('data/articles_community.csv')\n",
    "del df['Unnamed: 0']\n",
    "del df_content['Unnamed: 0']\n",
    "\n",
    "# Show df to get an idea of the data\n",
    "df.head()"
   ]
  },
  {
   "cell_type": "code",
   "execution_count": 3,
   "metadata": {},
   "outputs": [
    {
     "data": {
      "text/html": [
       "<div>\n",
       "<style scoped>\n",
       "    .dataframe tbody tr th:only-of-type {\n",
       "        vertical-align: middle;\n",
       "    }\n",
       "\n",
       "    .dataframe tbody tr th {\n",
       "        vertical-align: top;\n",
       "    }\n",
       "\n",
       "    .dataframe thead th {\n",
       "        text-align: right;\n",
       "    }\n",
       "</style>\n",
       "<table border=\"1\" class=\"dataframe\">\n",
       "  <thead>\n",
       "    <tr style=\"text-align: right;\">\n",
       "      <th></th>\n",
       "      <th>doc_body</th>\n",
       "      <th>doc_description</th>\n",
       "      <th>doc_full_name</th>\n",
       "      <th>doc_status</th>\n",
       "      <th>article_id</th>\n",
       "    </tr>\n",
       "  </thead>\n",
       "  <tbody>\n",
       "    <tr>\n",
       "      <th>0</th>\n",
       "      <td>Skip navigation Sign in SearchLoading...\\r\\n\\r...</td>\n",
       "      <td>Detect bad readings in real time using Python ...</td>\n",
       "      <td>Detect Malfunctioning IoT Sensors with Streami...</td>\n",
       "      <td>Live</td>\n",
       "      <td>0</td>\n",
       "    </tr>\n",
       "    <tr>\n",
       "      <th>1</th>\n",
       "      <td>No Free Hunch Navigation * kaggle.com\\r\\n\\r\\n ...</td>\n",
       "      <td>See the forest, see the trees. Here lies the c...</td>\n",
       "      <td>Communicating data science: A guide to present...</td>\n",
       "      <td>Live</td>\n",
       "      <td>1</td>\n",
       "    </tr>\n",
       "    <tr>\n",
       "      <th>2</th>\n",
       "      <td>☰ * Login\\r\\n * Sign Up\\r\\n\\r\\n * Learning Pat...</td>\n",
       "      <td>Here’s this week’s news in Data Science and Bi...</td>\n",
       "      <td>This Week in Data Science (April 18, 2017)</td>\n",
       "      <td>Live</td>\n",
       "      <td>2</td>\n",
       "    </tr>\n",
       "    <tr>\n",
       "      <th>3</th>\n",
       "      <td>DATALAYER: HIGH THROUGHPUT, LOW LATENCY AT SCA...</td>\n",
       "      <td>Learn how distributed DBs solve the problem of...</td>\n",
       "      <td>DataLayer Conference: Boost the performance of...</td>\n",
       "      <td>Live</td>\n",
       "      <td>3</td>\n",
       "    </tr>\n",
       "    <tr>\n",
       "      <th>4</th>\n",
       "      <td>Skip navigation Sign in SearchLoading...\\r\\n\\r...</td>\n",
       "      <td>This video demonstrates the power of IBM DataS...</td>\n",
       "      <td>Analyze NY Restaurant data using Spark in DSX</td>\n",
       "      <td>Live</td>\n",
       "      <td>4</td>\n",
       "    </tr>\n",
       "  </tbody>\n",
       "</table>\n",
       "</div>"
      ],
      "text/plain": [
       "                                            doc_body  \\\n",
       "0  Skip navigation Sign in SearchLoading...\\r\\n\\r...   \n",
       "1  No Free Hunch Navigation * kaggle.com\\r\\n\\r\\n ...   \n",
       "2  ☰ * Login\\r\\n * Sign Up\\r\\n\\r\\n * Learning Pat...   \n",
       "3  DATALAYER: HIGH THROUGHPUT, LOW LATENCY AT SCA...   \n",
       "4  Skip navigation Sign in SearchLoading...\\r\\n\\r...   \n",
       "\n",
       "                                     doc_description  \\\n",
       "0  Detect bad readings in real time using Python ...   \n",
       "1  See the forest, see the trees. Here lies the c...   \n",
       "2  Here’s this week’s news in Data Science and Bi...   \n",
       "3  Learn how distributed DBs solve the problem of...   \n",
       "4  This video demonstrates the power of IBM DataS...   \n",
       "\n",
       "                                       doc_full_name doc_status  article_id  \n",
       "0  Detect Malfunctioning IoT Sensors with Streami...       Live           0  \n",
       "1  Communicating data science: A guide to present...       Live           1  \n",
       "2         This Week in Data Science (April 18, 2017)       Live           2  \n",
       "3  DataLayer Conference: Boost the performance of...       Live           3  \n",
       "4      Analyze NY Restaurant data using Spark in DSX       Live           4  "
      ]
     },
     "execution_count": 3,
     "metadata": {},
     "output_type": "execute_result"
    }
   ],
   "source": [
    "# Show df_content to get an idea of the data\n",
    "df_content.head()"
   ]
  },
  {
   "cell_type": "markdown",
   "metadata": {},
   "source": [
    "### <a class=\"anchor\" id=\"Exploratory-Data-Analysis\">Part I : Exploratory Data Analysis</a>\n",
    "\n",
    "Use the dictionary and cells below to provide some insight into the descriptive statistics of the data.\n",
    "\n",
    "`1.` What is the distribution of how many articles a user interacts with in the dataset?  Provide a visual and descriptive statistics to assist with giving a look at the number of times each user interacts with an article.  "
   ]
  },
  {
   "cell_type": "code",
   "execution_count": 4,
   "metadata": {},
   "outputs": [
    {
     "data": {
      "text/plain": [
       "(45993, 3)"
      ]
     },
     "execution_count": 4,
     "metadata": {},
     "output_type": "execute_result"
    }
   ],
   "source": [
    "# find number of columns and rows\n",
    "df.shape"
   ]
  },
  {
   "cell_type": "code",
   "execution_count": 5,
   "metadata": {},
   "outputs": [
    {
     "name": "stdout",
     "output_type": "stream",
     "text": [
      "<class 'pandas.core.frame.DataFrame'>\n",
      "RangeIndex: 1056 entries, 0 to 1055\n",
      "Data columns (total 5 columns):\n",
      "doc_body           1042 non-null object\n",
      "doc_description    1053 non-null object\n",
      "doc_full_name      1056 non-null object\n",
      "doc_status         1056 non-null object\n",
      "article_id         1056 non-null int64\n",
      "dtypes: int64(1), object(4)\n",
      "memory usage: 41.3+ KB\n"
     ]
    }
   ],
   "source": [
    "df_content.info()"
   ]
  },
  {
   "cell_type": "code",
   "execution_count": 6,
   "metadata": {},
   "outputs": [
    {
     "data": {
      "text/plain": [
       "count    5148.000000\n",
       "mean        8.930847\n",
       "std        16.802267\n",
       "min         1.000000\n",
       "25%         1.000000\n",
       "50%         3.000000\n",
       "75%         9.000000\n",
       "max       364.000000\n",
       "Name: email, dtype: float64"
      ]
     },
     "execution_count": 6,
     "metadata": {},
     "output_type": "execute_result"
    }
   ],
   "source": [
    "# Descriptive statistics of user's interactions with articles.\n",
    "df['email'].value_counts().describe()"
   ]
  },
  {
   "cell_type": "code",
   "execution_count": 7,
   "metadata": {},
   "outputs": [],
   "source": [
    "# Fill in the median and maximum number of user_article interactios below\n",
    "\n",
    "median_val = 3 # 50% of individuals interact with ____ number of articles or fewer.\n",
    "max_views_by_user = 364 # The maximum number of user-article interactions by any 1 user is ______."
   ]
  },
  {
   "cell_type": "code",
   "execution_count": 8,
   "metadata": {},
   "outputs": [
    {
     "data": {
      "image/png": "[encoded data removed]",
      "text/plain": [
       "<matplotlib.figure.Figure at 0x7fa72ea4ab38>"
      ]
     },
     "metadata": {
      "needs_background": "light"
     },
     "output_type": "display_data"
    }
   ],
   "source": [
    "# Visual display of user's interactions with articles.\n",
    "df['email'].value_counts().hist(bins = 15)\n",
    "plt.title('Distribution of User/Articles Interactions')\n",
    "plt.xlabel('Interactions')\n",
    "plt.ylabel('Users')\n",
    "plt.show()"
   ]
  },
  {
   "cell_type": "markdown",
   "metadata": {},
   "source": [
    "`2.` Explore and remove duplicate articles from the **df_content** dataframe.  "
   ]
  },
  {
   "cell_type": "code",
   "execution_count": 9,
   "metadata": {},
   "outputs": [
    {
     "name": "stdout",
     "output_type": "stream",
     "text": [
      "<class 'pandas.core.frame.DataFrame'>\n",
      "RangeIndex: 1056 entries, 0 to 1055\n",
      "Data columns (total 5 columns):\n",
      "doc_body           1042 non-null object\n",
      "doc_description    1053 non-null object\n",
      "doc_full_name      1056 non-null object\n",
      "doc_status         1056 non-null object\n",
      "article_id         1056 non-null int64\n",
      "dtypes: int64(1), object(4)\n",
      "memory usage: 41.3+ KB\n"
     ]
    }
   ],
   "source": [
    "# Find and explore duplicate articles\n",
    "df_content.info()"
   ]
  },
  {
   "cell_type": "code",
   "execution_count": 10,
   "metadata": {},
   "outputs": [
    {
     "data": {
      "text/html": [
       "<div>\n",
       "<style scoped>\n",
       "    .dataframe tbody tr th:only-of-type {\n",
       "        vertical-align: middle;\n",
       "    }\n",
       "\n",
       "    .dataframe tbody tr th {\n",
       "        vertical-align: top;\n",
       "    }\n",
       "\n",
       "    .dataframe thead th {\n",
       "        text-align: right;\n",
       "    }\n",
       "</style>\n",
       "<table border=\"1\" class=\"dataframe\">\n",
       "  <thead>\n",
       "    <tr style=\"text-align: right;\">\n",
       "      <th></th>\n",
       "      <th>doc_body</th>\n",
       "      <th>doc_description</th>\n",
       "      <th>doc_full_name</th>\n",
       "      <th>doc_status</th>\n",
       "      <th>article_id</th>\n",
       "    </tr>\n",
       "  </thead>\n",
       "  <tbody>\n",
       "    <tr>\n",
       "      <th>0</th>\n",
       "      <td>Skip navigation Sign in SearchLoading...\\r\\n\\r...</td>\n",
       "      <td>Detect bad readings in real time using Python ...</td>\n",
       "      <td>Detect Malfunctioning IoT Sensors with Streami...</td>\n",
       "      <td>Live</td>\n",
       "      <td>0</td>\n",
       "    </tr>\n",
       "    <tr>\n",
       "      <th>1</th>\n",
       "      <td>No Free Hunch Navigation * kaggle.com\\r\\n\\r\\n ...</td>\n",
       "      <td>See the forest, see the trees. Here lies the c...</td>\n",
       "      <td>Communicating data science: A guide to present...</td>\n",
       "      <td>Live</td>\n",
       "      <td>1</td>\n",
       "    </tr>\n",
       "    <tr>\n",
       "      <th>2</th>\n",
       "      <td>☰ * Login\\r\\n * Sign Up\\r\\n\\r\\n * Learning Pat...</td>\n",
       "      <td>Here’s this week’s news in Data Science and Bi...</td>\n",
       "      <td>This Week in Data Science (April 18, 2017)</td>\n",
       "      <td>Live</td>\n",
       "      <td>2</td>\n",
       "    </tr>\n",
       "    <tr>\n",
       "      <th>3</th>\n",
       "      <td>DATALAYER: HIGH THROUGHPUT, LOW LATENCY AT SCA...</td>\n",
       "      <td>Learn how distributed DBs solve the problem of...</td>\n",
       "      <td>DataLayer Conference: Boost the performance of...</td>\n",
       "      <td>Live</td>\n",
       "      <td>3</td>\n",
       "    </tr>\n",
       "    <tr>\n",
       "      <th>4</th>\n",
       "      <td>Skip navigation Sign in SearchLoading...\\r\\n\\r...</td>\n",
       "      <td>This video demonstrates the power of IBM DataS...</td>\n",
       "      <td>Analyze NY Restaurant data using Spark in DSX</td>\n",
       "      <td>Live</td>\n",
       "      <td>4</td>\n",
       "    </tr>\n",
       "    <tr>\n",
       "      <th>5</th>\n",
       "      <td>Compose is all about immediacy. You want a new...</td>\n",
       "      <td>Using Compose's PostgreSQL data browser.</td>\n",
       "      <td>Browsing PostgreSQL Data with Compose</td>\n",
       "      <td>Live</td>\n",
       "      <td>5</td>\n",
       "    </tr>\n",
       "    <tr>\n",
       "      <th>6</th>\n",
       "      <td>UPGRADING YOUR POSTGRESQL TO 9.5Share on Twitt...</td>\n",
       "      <td>Upgrading your PostgreSQL deployment to versio...</td>\n",
       "      <td>Upgrading your PostgreSQL to 9.5</td>\n",
       "      <td>Live</td>\n",
       "      <td>6</td>\n",
       "    </tr>\n",
       "    <tr>\n",
       "      <th>7</th>\n",
       "      <td>Follow Sign in / Sign up 135 8 * Share\\r\\n * 1...</td>\n",
       "      <td>For a company like Slack that strives to be as...</td>\n",
       "      <td>Data Wrangling at Slack</td>\n",
       "      <td>Live</td>\n",
       "      <td>7</td>\n",
       "    </tr>\n",
       "    <tr>\n",
       "      <th>8</th>\n",
       "      <td>* Host\\r\\n * Competitions\\r\\n * Datasets\\r\\n *...</td>\n",
       "      <td>Kaggle is your home for data science. Learn ne...</td>\n",
       "      <td>Data Science Bowl 2017</td>\n",
       "      <td>Live</td>\n",
       "      <td>8</td>\n",
       "    </tr>\n",
       "    <tr>\n",
       "      <th>9</th>\n",
       "      <td>THE GRADIENT FLOW\\r\\nDATA / TECHNOLOGY / CULTU...</td>\n",
       "      <td>[A version of this post appears on the O’Reill...</td>\n",
       "      <td>Using Apache Spark to predict attack vectors a...</td>\n",
       "      <td>Live</td>\n",
       "      <td>9</td>\n",
       "    </tr>\n",
       "    <tr>\n",
       "      <th>10</th>\n",
       "      <td>OFFLINE-FIRST IOS APPS WITH SWIFT &amp; PART 1: TH...</td>\n",
       "      <td>Apple's sample app, Food Tracker, taught you i...</td>\n",
       "      <td>Offline-First iOS Apps with Swift &amp; Cloudant S...</td>\n",
       "      <td>Live</td>\n",
       "      <td>10</td>\n",
       "    </tr>\n",
       "    <tr>\n",
       "      <th>11</th>\n",
       "      <td>Warehousing data from Cloudant to dashDB great...</td>\n",
       "      <td>Replicating data to a relational dashDB databa...</td>\n",
       "      <td>Warehousing GeoJSON documents</td>\n",
       "      <td>Live</td>\n",
       "      <td>11</td>\n",
       "    </tr>\n",
       "    <tr>\n",
       "      <th>12</th>\n",
       "      <td>Skip to main content IBM developerWorks / Deve...</td>\n",
       "      <td>This recipe showcases how one can analyze the ...</td>\n",
       "      <td>Timeseries Data Analysis of IoT events by usin...</td>\n",
       "      <td>Live</td>\n",
       "      <td>12</td>\n",
       "    </tr>\n",
       "    <tr>\n",
       "      <th>13</th>\n",
       "      <td>Maureen McElaney Blocked Unblock Follow Follow...</td>\n",
       "      <td>There’s a reason you’ve been hearing a lot abo...</td>\n",
       "      <td>Bridging the Gap Between Python and Scala Jupy...</td>\n",
       "      <td>Live</td>\n",
       "      <td>13</td>\n",
       "    </tr>\n",
       "    <tr>\n",
       "      <th>14</th>\n",
       "      <td>Raj Singh Blocked Unblock Follow Following Dev...</td>\n",
       "      <td>Who are those people lurking behind the statis...</td>\n",
       "      <td>Got zip code data? Prep it for analytics. – IB...</td>\n",
       "      <td>Live</td>\n",
       "      <td>14</td>\n",
       "    </tr>\n",
       "    <tr>\n",
       "      <th>15</th>\n",
       "      <td>* Home\\r\\n * Community\\r\\n * Projects\\r\\n * Bl...</td>\n",
       "      <td>Early methods to integrate machine learning us...</td>\n",
       "      <td>Apache Spark™ 2.0: Extend Structured Streaming...</td>\n",
       "      <td>Live</td>\n",
       "      <td>15</td>\n",
       "    </tr>\n",
       "    <tr>\n",
       "      <th>16</th>\n",
       "      <td>* Home\\r\\n * Research\\r\\n * Partnerships and C...</td>\n",
       "      <td>The performance of supervised predictive model...</td>\n",
       "      <td>Higher-order Logistic Regression for Large Dat...</td>\n",
       "      <td>Live</td>\n",
       "      <td>16</td>\n",
       "    </tr>\n",
       "    <tr>\n",
       "      <th>17</th>\n",
       "      <td>Enterprise Pricing Articles Sign in Free 30-Da...</td>\n",
       "      <td>We've always considered MySQL as a potential C...</td>\n",
       "      <td>Compose for MySQL now for you</td>\n",
       "      <td>Live</td>\n",
       "      <td>17</td>\n",
       "    </tr>\n",
       "    <tr>\n",
       "      <th>18</th>\n",
       "      <td>Homepage Follow Sign in / Sign up * Home\\r\\n *...</td>\n",
       "      <td>It has never been easier to build AI or machin...</td>\n",
       "      <td>The Greatest Public Datasets for AI – Startup ...</td>\n",
       "      <td>Live</td>\n",
       "      <td>18</td>\n",
       "    </tr>\n",
       "    <tr>\n",
       "      <th>19</th>\n",
       "      <td>METRICS MAVEN: MODE D'EMPLOI - FINDING THE MOD...</td>\n",
       "      <td>In our Metrics Maven series, Compose's data sc...</td>\n",
       "      <td>Finding the Mode in PostgreSQL</td>\n",
       "      <td>Live</td>\n",
       "      <td>19</td>\n",
       "    </tr>\n",
       "    <tr>\n",
       "      <th>20</th>\n",
       "      <td>Homepage Follow Sign in / Sign up Homepage * H...</td>\n",
       "      <td>It is often useful to use RStudio for one piec...</td>\n",
       "      <td>Working interactively with RStudio and noteboo...</td>\n",
       "      <td>Live</td>\n",
       "      <td>20</td>\n",
       "    </tr>\n",
       "    <tr>\n",
       "      <th>21</th>\n",
       "      <td>Raj Singh Blocked Unblock Follow Following Dev...</td>\n",
       "      <td>You’re doing your data a disservice if you don...</td>\n",
       "      <td>Mapping for Data Science with PixieDust and Ma...</td>\n",
       "      <td>Live</td>\n",
       "      <td>21</td>\n",
       "    </tr>\n",
       "    <tr>\n",
       "      <th>22</th>\n",
       "      <td>IMPORTING JSON DOCUMENTS WITH NOSQLIMPORT\\r\\nG...</td>\n",
       "      <td>Introducing nosqlimport, an npm module to help...</td>\n",
       "      <td>Move CSVs into different JSON doc stores</td>\n",
       "      <td>Live</td>\n",
       "      <td>22</td>\n",
       "    </tr>\n",
       "    <tr>\n",
       "      <th>23</th>\n",
       "      <td>This video shows you how to build and query a ...</td>\n",
       "      <td>This video shows you how to build and query a ...</td>\n",
       "      <td>Tutorial: How to build and query a Cloudant ge...</td>\n",
       "      <td>Live</td>\n",
       "      <td>23</td>\n",
       "    </tr>\n",
       "    <tr>\n",
       "      <th>24</th>\n",
       "      <td>THE CONVERSATIONAL INTERFACE IS THE NEW PARADI...</td>\n",
       "      <td>Botkit provides a simple framework to handle t...</td>\n",
       "      <td>The Conversational Interface is the New Paradigm</td>\n",
       "      <td>Live</td>\n",
       "      <td>24</td>\n",
       "    </tr>\n",
       "    <tr>\n",
       "      <th>25</th>\n",
       "      <td>Skip navigation Upload Sign in SearchLoading.....</td>\n",
       "      <td>Want to learn more about how we created the Da...</td>\n",
       "      <td>Creating the Data Science Experience</td>\n",
       "      <td>Live</td>\n",
       "      <td>25</td>\n",
       "    </tr>\n",
       "    <tr>\n",
       "      <th>26</th>\n",
       "      <td>GOOGLE RESEARCH BLOG The latest news from Rese...</td>\n",
       "      <td>Much of driving is spent either stuck in traff...</td>\n",
       "      <td>Using Machine Learning to predict parking diff...</td>\n",
       "      <td>Live</td>\n",
       "      <td>26</td>\n",
       "    </tr>\n",
       "    <tr>\n",
       "      <th>27</th>\n",
       "      <td>Skip navigation Upload Sign in SearchLoading.....</td>\n",
       "      <td>This talk assumes you have a basic understandi...</td>\n",
       "      <td>Getting The Best Performance With PySpark</td>\n",
       "      <td>Live</td>\n",
       "      <td>27</td>\n",
       "    </tr>\n",
       "    <tr>\n",
       "      <th>28</th>\n",
       "      <td>ACCESS DENIED\\r\\nSadly, your client does not s...</td>\n",
       "      <td>In this paper, we propose gcForest, a decision...</td>\n",
       "      <td>Deep Forest: Towards An Alternative to Deep Ne...</td>\n",
       "      <td>Live</td>\n",
       "      <td>28</td>\n",
       "    </tr>\n",
       "    <tr>\n",
       "      <th>29</th>\n",
       "      <td>Homepage Follow Sign in / Sign up Homepage * H...</td>\n",
       "      <td>I’m very happy and proud to announce that IBM ...</td>\n",
       "      <td>Experience IoT with Coursera</td>\n",
       "      <td>Live</td>\n",
       "      <td>29</td>\n",
       "    </tr>\n",
       "    <tr>\n",
       "      <th>...</th>\n",
       "      <td>...</td>\n",
       "      <td>...</td>\n",
       "      <td>...</td>\n",
       "      <td>...</td>\n",
       "      <td>...</td>\n",
       "    </tr>\n",
       "    <tr>\n",
       "      <th>1026</th>\n",
       "      <td>Enterprise Pricing Articles Sign in Free 30-Da...</td>\n",
       "      <td>Varun Singh, a software engineer at IBM's Wats...</td>\n",
       "      <td>Redis and MongoDB in the biomedical domain</td>\n",
       "      <td>Live</td>\n",
       "      <td>1021</td>\n",
       "    </tr>\n",
       "    <tr>\n",
       "      <th>1027</th>\n",
       "      <td>Skip navigation Sign in SearchLoading...\\r\\n\\r...</td>\n",
       "      <td>This video shows you how to create and adminis...</td>\n",
       "      <td>Create and administer a data catalog using IBM...</td>\n",
       "      <td>Live</td>\n",
       "      <td>1022</td>\n",
       "    </tr>\n",
       "    <tr>\n",
       "      <th>1028</th>\n",
       "      <td>Compose The Compose logo Articles Sign in Free...</td>\n",
       "      <td>With the latest 0.2.1 version of Transporter, ...</td>\n",
       "      <td>How to move data with Compose Transporter - Fr...</td>\n",
       "      <td>Live</td>\n",
       "      <td>1023</td>\n",
       "    </tr>\n",
       "    <tr>\n",
       "      <th>1029</th>\n",
       "      <td>Follow Sign in / Sign up * Home\\r\\n * About In...</td>\n",
       "      <td>Audio super-resolution aims to reconstruct a h...</td>\n",
       "      <td>Using Deep Learning to Reconstruct High-Resolu...</td>\n",
       "      <td>Live</td>\n",
       "      <td>1024</td>\n",
       "    </tr>\n",
       "    <tr>\n",
       "      <th>1030</th>\n",
       "      <td>Homepage Follow Sign in / Sign up Homepage * H...</td>\n",
       "      <td>Since then, this metric has been ubiquitously ...</td>\n",
       "      <td>Data tidying in Data Science Experience</td>\n",
       "      <td>Live</td>\n",
       "      <td>1025</td>\n",
       "    </tr>\n",
       "    <tr>\n",
       "      <th>1031</th>\n",
       "      <td>Develop in the cloud at the click of a button!...</td>\n",
       "      <td>Build a word game app and see how to manage an...</td>\n",
       "      <td>Build a simple word game app using Cloudant on...</td>\n",
       "      <td>Live</td>\n",
       "      <td>1026</td>\n",
       "    </tr>\n",
       "    <tr>\n",
       "      <th>1032</th>\n",
       "      <td>BLAZINGLY FAST GEOSPATIAL QUERIES WITH REDIS\\r...</td>\n",
       "      <td>Use Redis and and Python scripts to speed your...</td>\n",
       "      <td>Blazingly Fast Geospatial Queries with Redis</td>\n",
       "      <td>Live</td>\n",
       "      <td>1027</td>\n",
       "    </tr>\n",
       "    <tr>\n",
       "      <th>1033</th>\n",
       "      <td>Blog Home Dataquest.io Learn Data Science in Y...</td>\n",
       "      <td>In this post, you’ll learn to query, update, a...</td>\n",
       "      <td>Working with SQLite Databases using Python and...</td>\n",
       "      <td>Live</td>\n",
       "      <td>1028</td>\n",
       "    </tr>\n",
       "    <tr>\n",
       "      <th>1034</th>\n",
       "      <td>DATALAYER: MANAGING (OR NOT) THE DATA IN IMMUT...</td>\n",
       "      <td>Adron Hall of Thrashing Code and Home Depot, t...</td>\n",
       "      <td>DataLayer Conference: Managing (or not) the Da...</td>\n",
       "      <td>Live</td>\n",
       "      <td>1029</td>\n",
       "    </tr>\n",
       "    <tr>\n",
       "      <th>1035</th>\n",
       "      <td>Skip to contentWin-Vector Blog\\r\\n\\r\\nThe Win-...</td>\n",
       "      <td>Describes the use of Laplace noise in machine ...</td>\n",
       "      <td>Laplace noising versus simulated out of sample...</td>\n",
       "      <td>Live</td>\n",
       "      <td>1030</td>\n",
       "    </tr>\n",
       "    <tr>\n",
       "      <th>1036</th>\n",
       "      <td>This work is licensed under a Creative Commons...</td>\n",
       "      <td>A full guide to Elasticsearch, the real-time d...</td>\n",
       "      <td>The Definitive Guide</td>\n",
       "      <td>Live</td>\n",
       "      <td>1031</td>\n",
       "    </tr>\n",
       "    <tr>\n",
       "      <th>1037</th>\n",
       "      <td>NaN</td>\n",
       "      <td>See how quick and easy it is to set up a dashD...</td>\n",
       "      <td>Get started with dashDB on Bluemix</td>\n",
       "      <td>Live</td>\n",
       "      <td>1032</td>\n",
       "    </tr>\n",
       "    <tr>\n",
       "      <th>1038</th>\n",
       "      <td>The relational database has been the dominant ...</td>\n",
       "      <td>The relational database has been the dominant ...</td>\n",
       "      <td>The Many Flavors of NoSQL at That Conference</td>\n",
       "      <td>Live</td>\n",
       "      <td>1033</td>\n",
       "    </tr>\n",
       "    <tr>\n",
       "      <th>1039</th>\n",
       "      <td>Skip to main content IBM developerWorks / Deve...</td>\n",
       "      <td>Building your first data warehouse doesn’t hav...</td>\n",
       "      <td>Your First Data Warehouse Is Easy. Meet the ODS.</td>\n",
       "      <td>Live</td>\n",
       "      <td>1034</td>\n",
       "    </tr>\n",
       "    <tr>\n",
       "      <th>1040</th>\n",
       "      <td>Skip to contentDinesh Nirmal's Blog\\r\\n\\r\\nA b...</td>\n",
       "      <td>In my last blog “Business differentiation thro...</td>\n",
       "      <td>Machine Learning for the Enterprise.</td>\n",
       "      <td>Live</td>\n",
       "      <td>1035</td>\n",
       "    </tr>\n",
       "    <tr>\n",
       "      <th>1041</th>\n",
       "      <td>Compose The Compose logo Articles Sign in Free...</td>\n",
       "      <td>MongoDB's aggregation pipeline makes finding d...</td>\n",
       "      <td>Finding Duplicate Documents in MongoDB</td>\n",
       "      <td>Live</td>\n",
       "      <td>1036</td>\n",
       "    </tr>\n",
       "    <tr>\n",
       "      <th>1042</th>\n",
       "      <td>Glynn Bird Blocked Unblock Follow Following De...</td>\n",
       "      <td>Which write API endpoint is the right write ca...</td>\n",
       "      <td>Piecemeal, Bulk, or Batch? – IBM Watson Data L...</td>\n",
       "      <td>Live</td>\n",
       "      <td>1037</td>\n",
       "    </tr>\n",
       "    <tr>\n",
       "      <th>1043</th>\n",
       "      <td>MENU\\r\\nClose\\r\\nSubscribe SubscribeREDUCING O...</td>\n",
       "      <td>Nothing spoils a plot like (too much) data.</td>\n",
       "      <td>Reducing overplotting in scatterplots</td>\n",
       "      <td>Live</td>\n",
       "      <td>1038</td>\n",
       "    </tr>\n",
       "    <tr>\n",
       "      <th>1044</th>\n",
       "      <td>Homepage IBM Watson Data Lab Follow Sign in / ...</td>\n",
       "      <td>Getting started with custom visualizations, si...</td>\n",
       "      <td>You Too Can Make Magic (in Jupyter Notebooks w...</td>\n",
       "      <td>Live</td>\n",
       "      <td>1039</td>\n",
       "    </tr>\n",
       "    <tr>\n",
       "      <th>1045</th>\n",
       "      <td>Although it is built around a JavaScript engin...</td>\n",
       "      <td>Although it is built around a JavaScript engin...</td>\n",
       "      <td>How I Stopped Worrying &amp; Learned to Love the M...</td>\n",
       "      <td>Live</td>\n",
       "      <td>1040</td>\n",
       "    </tr>\n",
       "    <tr>\n",
       "      <th>1046</th>\n",
       "      <td>Margriet Groenendijk Blocked Unblock Follow Fo...</td>\n",
       "      <td>Last week I attended the GeoPython conference ...</td>\n",
       "      <td>Mapping All the Things with Python – IBM Watso...</td>\n",
       "      <td>Live</td>\n",
       "      <td>1041</td>\n",
       "    </tr>\n",
       "    <tr>\n",
       "      <th>1047</th>\n",
       "      <td>Homepage Follow Sign in / Sign up Homepage * H...</td>\n",
       "      <td>In this post, we will go through how to read a...</td>\n",
       "      <td>Use IBM Data Science Experience to Read and Wr...</td>\n",
       "      <td>Live</td>\n",
       "      <td>1042</td>\n",
       "    </tr>\n",
       "    <tr>\n",
       "      <th>1048</th>\n",
       "      <td>Homepage Follow Sign in Get started * Home\\r\\n...</td>\n",
       "      <td>As more devices become internet enabled, harne...</td>\n",
       "      <td>Use IoT data in Streams Designer for billing a...</td>\n",
       "      <td>Live</td>\n",
       "      <td>1043</td>\n",
       "    </tr>\n",
       "    <tr>\n",
       "      <th>1049</th>\n",
       "      <td>* \\r\\n * \\r\\n * \\r\\n * \\r\\n * \\r\\n * \\r\\n * \\r...</td>\n",
       "      <td>Continuing my previous work on exploring Arlin...</td>\n",
       "      <td>Mapping Points with Folium</td>\n",
       "      <td>Live</td>\n",
       "      <td>1044</td>\n",
       "    </tr>\n",
       "    <tr>\n",
       "      <th>1050</th>\n",
       "      <td>lA SPEED GUIDE TO REDIS LUA SCRIPTING\\r\\nShare...</td>\n",
       "      <td>Lua is a compact language which can be embedde...</td>\n",
       "      <td>A Speed Guide To Redis Lua Scripting</td>\n",
       "      <td>Live</td>\n",
       "      <td>1045</td>\n",
       "    </tr>\n",
       "    <tr>\n",
       "      <th>1051</th>\n",
       "      <td>PouchDB-find is a new API and syntax that allo...</td>\n",
       "      <td>PouchDB uses MapReduce as its default search m...</td>\n",
       "      <td>A look under the covers of PouchDB-find</td>\n",
       "      <td>Live</td>\n",
       "      <td>1046</td>\n",
       "    </tr>\n",
       "    <tr>\n",
       "      <th>1052</th>\n",
       "      <td>We compare discriminative and generative learn...</td>\n",
       "      <td>We compare discriminative and generative learn...</td>\n",
       "      <td>A comparison of logistic regression and naive ...</td>\n",
       "      <td>Live</td>\n",
       "      <td>1047</td>\n",
       "    </tr>\n",
       "    <tr>\n",
       "      <th>1053</th>\n",
       "      <td>Essays about data, building products and boots...</td>\n",
       "      <td>In order to demystify some of the magic behind...</td>\n",
       "      <td>What I Learned Implementing a Classifier from ...</td>\n",
       "      <td>Live</td>\n",
       "      <td>1048</td>\n",
       "    </tr>\n",
       "    <tr>\n",
       "      <th>1054</th>\n",
       "      <td>NaN</td>\n",
       "      <td>Learn how to use IBM dashDB as data store for ...</td>\n",
       "      <td>Use dashDB with Spark</td>\n",
       "      <td>Live</td>\n",
       "      <td>1049</td>\n",
       "    </tr>\n",
       "    <tr>\n",
       "      <th>1055</th>\n",
       "      <td>Homepage Follow Sign in / Sign up Homepage * H...</td>\n",
       "      <td>Once you get used to developing in a Notebook ...</td>\n",
       "      <td>Jupyter Notebooks with Scala, Python, or R Ker...</td>\n",
       "      <td>Live</td>\n",
       "      <td>1050</td>\n",
       "    </tr>\n",
       "  </tbody>\n",
       "</table>\n",
       "<p>1056 rows × 5 columns</p>\n",
       "</div>"
      ],
      "text/plain": [
       "                                               doc_body  \\\n",
       "0     Skip navigation Sign in SearchLoading...\\r\\n\\r...   \n",
       "1     No Free Hunch Navigation * kaggle.com\\r\\n\\r\\n ...   \n",
       "2     ☰ * Login\\r\\n * Sign Up\\r\\n\\r\\n * Learning Pat...   \n",
       "3     DATALAYER: HIGH THROUGHPUT, LOW LATENCY AT SCA...   \n",
       "4     Skip navigation Sign in SearchLoading...\\r\\n\\r...   \n",
       "5     Compose is all about immediacy. You want a new...   \n",
       "6     UPGRADING YOUR POSTGRESQL TO 9.5Share on Twitt...   \n",
       "7     Follow Sign in / Sign up 135 8 * Share\\r\\n * 1...   \n",
       "8     * Host\\r\\n * Competitions\\r\\n * Datasets\\r\\n *...   \n",
       "9     THE GRADIENT FLOW\\r\\nDATA / TECHNOLOGY / CULTU...   \n",
       "10    OFFLINE-FIRST IOS APPS WITH SWIFT & PART 1: TH...   \n",
       "11    Warehousing data from Cloudant to dashDB great...   \n",
       "12    Skip to main content IBM developerWorks / Deve...   \n",
       "13    Maureen McElaney Blocked Unblock Follow Follow...   \n",
       "14    Raj Singh Blocked Unblock Follow Following Dev...   \n",
       "15    * Home\\r\\n * Community\\r\\n * Projects\\r\\n * Bl...   \n",
       "16    * Home\\r\\n * Research\\r\\n * Partnerships and C...   \n",
       "17    Enterprise Pricing Articles Sign in Free 30-Da...   \n",
       "18    Homepage Follow Sign in / Sign up * Home\\r\\n *...   \n",
       "19    METRICS MAVEN: MODE D'EMPLOI - FINDING THE MOD...   \n",
       "20    Homepage Follow Sign in / Sign up Homepage * H...   \n",
       "21    Raj Singh Blocked Unblock Follow Following Dev...   \n",
       "22    IMPORTING JSON DOCUMENTS WITH NOSQLIMPORT\\r\\nG...   \n",
       "23    This video shows you how to build and query a ...   \n",
       "24    THE CONVERSATIONAL INTERFACE IS THE NEW PARADI...   \n",
       "25    Skip navigation Upload Sign in SearchLoading.....   \n",
       "26    GOOGLE RESEARCH BLOG The latest news from Rese...   \n",
       "27    Skip navigation Upload Sign in SearchLoading.....   \n",
       "28    ACCESS DENIED\\r\\nSadly, your client does not s...   \n",
       "29    Homepage Follow Sign in / Sign up Homepage * H...   \n",
       "...                                                 ...   \n",
       "1026  Enterprise Pricing Articles Sign in Free 30-Da...   \n",
       "1027  Skip navigation Sign in SearchLoading...\\r\\n\\r...   \n",
       "1028  Compose The Compose logo Articles Sign in Free...   \n",
       "1029  Follow Sign in / Sign up * Home\\r\\n * About In...   \n",
       "1030  Homepage Follow Sign in / Sign up Homepage * H...   \n",
       "1031  Develop in the cloud at the click of a button!...   \n",
       "1032  BLAZINGLY FAST GEOSPATIAL QUERIES WITH REDIS\\r...   \n",
       "1033  Blog Home Dataquest.io Learn Data Science in Y...   \n",
       "1034  DATALAYER: MANAGING (OR NOT) THE DATA IN IMMUT...   \n",
       "1035  Skip to contentWin-Vector Blog\\r\\n\\r\\nThe Win-...   \n",
       "1036  This work is licensed under a Creative Commons...   \n",
       "1037                                                NaN   \n",
       "1038  The relational database has been the dominant ...   \n",
       "1039  Skip to main content IBM developerWorks / Deve...   \n",
       "1040  Skip to contentDinesh Nirmal's Blog\\r\\n\\r\\nA b...   \n",
       "1041  Compose The Compose logo Articles Sign in Free...   \n",
       "1042  Glynn Bird Blocked Unblock Follow Following De...   \n",
       "1043  MENU\\r\\nClose\\r\\nSubscribe SubscribeREDUCING O...   \n",
       "1044  Homepage IBM Watson Data Lab Follow Sign in / ...   \n",
       "1045  Although it is built around a JavaScript engin...   \n",
       "1046  Margriet Groenendijk Blocked Unblock Follow Fo...   \n",
       "1047  Homepage Follow Sign in / Sign up Homepage * H...   \n",
       "1048  Homepage Follow Sign in Get started * Home\\r\\n...   \n",
       "1049  * \\r\\n * \\r\\n * \\r\\n * \\r\\n * \\r\\n * \\r\\n * \\r...   \n",
       "1050  lA SPEED GUIDE TO REDIS LUA SCRIPTING\\r\\nShare...   \n",
       "1051  PouchDB-find is a new API and syntax that allo...   \n",
       "1052  We compare discriminative and generative learn...   \n",
       "1053  Essays about data, building products and boots...   \n",
       "1054                                                NaN   \n",
       "1055  Homepage Follow Sign in / Sign up Homepage * H...   \n",
       "\n",
       "                                        doc_description  \\\n",
       "0     Detect bad readings in real time using Python ...   \n",
       "1     See the forest, see the trees. Here lies the c...   \n",
       "2     Here’s this week’s news in Data Science and Bi...   \n",
       "3     Learn how distributed DBs solve the problem of...   \n",
       "4     This video demonstrates the power of IBM DataS...   \n",
       "5              Using Compose's PostgreSQL data browser.   \n",
       "6     Upgrading your PostgreSQL deployment to versio...   \n",
       "7     For a company like Slack that strives to be as...   \n",
       "8     Kaggle is your home for data science. Learn ne...   \n",
       "9     [A version of this post appears on the O’Reill...   \n",
       "10    Apple's sample app, Food Tracker, taught you i...   \n",
       "11    Replicating data to a relational dashDB databa...   \n",
       "12    This recipe showcases how one can analyze the ...   \n",
       "13    There’s a reason you’ve been hearing a lot abo...   \n",
       "14    Who are those people lurking behind the statis...   \n",
       "15    Early methods to integrate machine learning us...   \n",
       "16    The performance of supervised predictive model...   \n",
       "17    We've always considered MySQL as a potential C...   \n",
       "18    It has never been easier to build AI or machin...   \n",
       "19    In our Metrics Maven series, Compose's data sc...   \n",
       "20    It is often useful to use RStudio for one piec...   \n",
       "21    You’re doing your data a disservice if you don...   \n",
       "22    Introducing nosqlimport, an npm module to help...   \n",
       "23    This video shows you how to build and query a ...   \n",
       "24    Botkit provides a simple framework to handle t...   \n",
       "25    Want to learn more about how we created the Da...   \n",
       "26    Much of driving is spent either stuck in traff...   \n",
       "27    This talk assumes you have a basic understandi...   \n",
       "28    In this paper, we propose gcForest, a decision...   \n",
       "29    I’m very happy and proud to announce that IBM ...   \n",
       "...                                                 ...   \n",
       "1026  Varun Singh, a software engineer at IBM's Wats...   \n",
       "1027  This video shows you how to create and adminis...   \n",
       "1028  With the latest 0.2.1 version of Transporter, ...   \n",
       "1029  Audio super-resolution aims to reconstruct a h...   \n",
       "1030  Since then, this metric has been ubiquitously ...   \n",
       "1031  Build a word game app and see how to manage an...   \n",
       "1032  Use Redis and and Python scripts to speed your...   \n",
       "1033  In this post, you’ll learn to query, update, a...   \n",
       "1034  Adron Hall of Thrashing Code and Home Depot, t...   \n",
       "1035  Describes the use of Laplace noise in machine ...   \n",
       "1036  A full guide to Elasticsearch, the real-time d...   \n",
       "1037  See how quick and easy it is to set up a dashD...   \n",
       "1038  The relational database has been the dominant ...   \n",
       "1039  Building your first data warehouse doesn’t hav...   \n",
       "1040  In my last blog “Business differentiation thro...   \n",
       "1041  MongoDB's aggregation pipeline makes finding d...   \n",
       "1042  Which write API endpoint is the right write ca...   \n",
       "1043        Nothing spoils a plot like (too much) data.   \n",
       "1044  Getting started with custom visualizations, si...   \n",
       "1045  Although it is built around a JavaScript engin...   \n",
       "1046  Last week I attended the GeoPython conference ...   \n",
       "1047  In this post, we will go through how to read a...   \n",
       "1048  As more devices become internet enabled, harne...   \n",
       "1049  Continuing my previous work on exploring Arlin...   \n",
       "1050  Lua is a compact language which can be embedde...   \n",
       "1051  PouchDB uses MapReduce as its default search m...   \n",
       "1052  We compare discriminative and generative learn...   \n",
       "1053  In order to demystify some of the magic behind...   \n",
       "1054  Learn how to use IBM dashDB as data store for ...   \n",
       "1055  Once you get used to developing in a Notebook ...   \n",
       "\n",
       "                                          doc_full_name doc_status  article_id  \n",
       "0     Detect Malfunctioning IoT Sensors with Streami...       Live           0  \n",
       "1     Communicating data science: A guide to present...       Live           1  \n",
       "2            This Week in Data Science (April 18, 2017)       Live           2  \n",
       "3     DataLayer Conference: Boost the performance of...       Live           3  \n",
       "4         Analyze NY Restaurant data using Spark in DSX       Live           4  \n",
       "5                 Browsing PostgreSQL Data with Compose       Live           5  \n",
       "6                      Upgrading your PostgreSQL to 9.5       Live           6  \n",
       "7                               Data Wrangling at Slack       Live           7  \n",
       "8                                Data Science Bowl 2017       Live           8  \n",
       "9     Using Apache Spark to predict attack vectors a...       Live           9  \n",
       "10    Offline-First iOS Apps with Swift & Cloudant S...       Live          10  \n",
       "11                        Warehousing GeoJSON documents       Live          11  \n",
       "12    Timeseries Data Analysis of IoT events by usin...       Live          12  \n",
       "13    Bridging the Gap Between Python and Scala Jupy...       Live          13  \n",
       "14    Got zip code data? Prep it for analytics. – IB...       Live          14  \n",
       "15    Apache Spark™ 2.0: Extend Structured Streaming...       Live          15  \n",
       "16    Higher-order Logistic Regression for Large Dat...       Live          16  \n",
       "17                        Compose for MySQL now for you       Live          17  \n",
       "18    The Greatest Public Datasets for AI – Startup ...       Live          18  \n",
       "19                       Finding the Mode in PostgreSQL       Live          19  \n",
       "20    Working interactively with RStudio and noteboo...       Live          20  \n",
       "21    Mapping for Data Science with PixieDust and Ma...       Live          21  \n",
       "22             Move CSVs into different JSON doc stores       Live          22  \n",
       "23    Tutorial: How to build and query a Cloudant ge...       Live          23  \n",
       "24     The Conversational Interface is the New Paradigm       Live          24  \n",
       "25                 Creating the Data Science Experience       Live          25  \n",
       "26    Using Machine Learning to predict parking diff...       Live          26  \n",
       "27            Getting The Best Performance With PySpark       Live          27  \n",
       "28    Deep Forest: Towards An Alternative to Deep Ne...       Live          28  \n",
       "29                         Experience IoT with Coursera       Live          29  \n",
       "...                                                 ...        ...         ...  \n",
       "1026         Redis and MongoDB in the biomedical domain       Live        1021  \n",
       "1027  Create and administer a data catalog using IBM...       Live        1022  \n",
       "1028  How to move data with Compose Transporter - Fr...       Live        1023  \n",
       "1029  Using Deep Learning to Reconstruct High-Resolu...       Live        1024  \n",
       "1030            Data tidying in Data Science Experience       Live        1025  \n",
       "1031  Build a simple word game app using Cloudant on...       Live        1026  \n",
       "1032       Blazingly Fast Geospatial Queries with Redis       Live        1027  \n",
       "1033  Working with SQLite Databases using Python and...       Live        1028  \n",
       "1034  DataLayer Conference: Managing (or not) the Da...       Live        1029  \n",
       "1035  Laplace noising versus simulated out of sample...       Live        1030  \n",
       "1036                               The Definitive Guide       Live        1031  \n",
       "1037                 Get started with dashDB on Bluemix       Live        1032  \n",
       "1038       The Many Flavors of NoSQL at That Conference       Live        1033  \n",
       "1039   Your First Data Warehouse Is Easy. Meet the ODS.       Live        1034  \n",
       "1040               Machine Learning for the Enterprise.       Live        1035  \n",
       "1041             Finding Duplicate Documents in MongoDB       Live        1036  \n",
       "1042  Piecemeal, Bulk, or Batch? – IBM Watson Data L...       Live        1037  \n",
       "1043              Reducing overplotting in scatterplots       Live        1038  \n",
       "1044  You Too Can Make Magic (in Jupyter Notebooks w...       Live        1039  \n",
       "1045  How I Stopped Worrying & Learned to Love the M...       Live        1040  \n",
       "1046  Mapping All the Things with Python – IBM Watso...       Live        1041  \n",
       "1047  Use IBM Data Science Experience to Read and Wr...       Live        1042  \n",
       "1048  Use IoT data in Streams Designer for billing a...       Live        1043  \n",
       "1049                         Mapping Points with Folium       Live        1044  \n",
       "1050               A Speed Guide To Redis Lua Scripting       Live        1045  \n",
       "1051            A look under the covers of PouchDB-find       Live        1046  \n",
       "1052  A comparison of logistic regression and naive ...       Live        1047  \n",
       "1053  What I Learned Implementing a Classifier from ...       Live        1048  \n",
       "1054                              Use dashDB with Spark       Live        1049  \n",
       "1055  Jupyter Notebooks with Scala, Python, or R Ker...       Live        1050  \n",
       "\n",
       "[1056 rows x 5 columns]"
      ]
     },
     "metadata": {},
     "output_type": "display_data"
    }
   ],
   "source": [
    "display(df_content)"
   ]
  },
  {
   "cell_type": "code",
   "execution_count": 11,
   "metadata": {},
   "outputs": [],
   "source": [
    "# Remove any rows that have the same article_id - only keep the first\n",
    "\n",
    "df_content = df_content[~df_content.duplicated(subset=['article_id'])]"
   ]
  },
  {
   "cell_type": "code",
   "execution_count": 12,
   "metadata": {},
   "outputs": [
    {
     "data": {
      "text/plain": [
       "0"
      ]
     },
     "execution_count": 12,
     "metadata": {},
     "output_type": "execute_result"
    }
   ],
   "source": [
    "# Check the dataframe after remove duplicated\n",
    "df_content.duplicated(subset=['article_id']).sum()"
   ]
  },
  {
   "cell_type": "markdown",
   "metadata": {},
   "source": [
    "`3.` Use the cells below to find:\n",
    "\n",
    "**a.** The number of unique articles that have an interaction with a user.  \n",
    "**b.** The number of unique articles in the dataset (whether they have any interactions or not).<br>\n",
    "**c.** The number of unique users in the dataset. (excluding null values) <br>\n",
    "**d.** The number of user-article interactions in the dataset."
   ]
  },
  {
   "cell_type": "code",
   "execution_count": 13,
   "metadata": {},
   "outputs": [
    {
     "data": {
      "text/plain": [
       "714"
      ]
     },
     "execution_count": 13,
     "metadata": {},
     "output_type": "execute_result"
    }
   ],
   "source": [
    "# The number of unique articles that have at least one interaction\n",
    "unique_articles = df['article_id'].nunique()\n",
    "unique_articles"
   ]
  },
  {
   "cell_type": "code",
   "execution_count": 14,
   "metadata": {},
   "outputs": [
    {
     "data": {
      "text/plain": [
       "1051"
      ]
     },
     "execution_count": 14,
     "metadata": {},
     "output_type": "execute_result"
    }
   ],
   "source": [
    "# The number of unique articles on the IBM platform \n",
    "#- The number of unique articles in the dataset (whether they have any interactions or not)\n",
    "total_articles = df_content['article_id'].nunique()\n",
    "total_articles"
   ]
  },
  {
   "cell_type": "code",
   "execution_count": 15,
   "metadata": {},
   "outputs": [
    {
     "data": {
      "text/plain": [
       "5148"
      ]
     },
     "execution_count": 15,
     "metadata": {},
     "output_type": "execute_result"
    }
   ],
   "source": [
    "# The number of unique users\n",
    "unique_users = df['email'].nunique()\n",
    "unique_users "
   ]
  },
  {
   "cell_type": "code",
   "execution_count": 16,
   "metadata": {},
   "outputs": [
    {
     "data": {
      "text/plain": [
       "45993"
      ]
     },
     "execution_count": 16,
     "metadata": {},
     "output_type": "execute_result"
    }
   ],
   "source": [
    "# The number of user-article interactions\n",
    "user_article_interactions = df.shape[0]\n",
    "user_article_interactions"
   ]
  },
  {
   "cell_type": "code",
   "execution_count": null,
   "metadata": {},
   "outputs": [],
   "source": []
  },
  {
   "cell_type": "markdown",
   "metadata": {},
   "source": [
    "`4.` Use the cells below to find the most viewed **article_id**, as well as how often it was viewed.  After talking to the company leaders, the `email_mapper` function was deemed a reasonable way to map users to ids.  There were a small number of null values, and it was found that all of these null values likely belonged to a single user (which is how they are stored using the function below)."
   ]
  },
  {
   "cell_type": "code",
   "execution_count": 17,
   "metadata": {},
   "outputs": [
    {
     "data": {
      "text/plain": [
       "'1429.0'"
      ]
     },
     "execution_count": 17,
     "metadata": {},
     "output_type": "execute_result"
    }
   ],
   "source": [
    "# The most viewed article in the dataset as a string with one value following the decimal\n",
    "\n",
    "most_viewed_article_id = str(df['article_id'].value_counts().index[0])\n",
    "most_viewed_article_id\n"
   ]
  },
  {
   "cell_type": "code",
   "execution_count": 18,
   "metadata": {},
   "outputs": [
    {
     "data": {
      "text/plain": [
       "937"
      ]
     },
     "execution_count": 18,
     "metadata": {},
     "output_type": "execute_result"
    }
   ],
   "source": [
    "# The most viewed article in the dataset was viewed how many times?\n",
    "max_views = df['article_id'].value_counts().iloc[0]\n",
    "max_views"
   ]
  },
  {
   "cell_type": "code",
   "execution_count": 19,
   "metadata": {},
   "outputs": [
    {
     "data": {
      "text/html": [
       "<div>\n",
       "<style scoped>\n",
       "    .dataframe tbody tr th:only-of-type {\n",
       "        vertical-align: middle;\n",
       "    }\n",
       "\n",
       "    .dataframe tbody tr th {\n",
       "        vertical-align: top;\n",
       "    }\n",
       "\n",
       "    .dataframe thead th {\n",
       "        text-align: right;\n",
       "    }\n",
       "</style>\n",
       "<table border=\"1\" class=\"dataframe\">\n",
       "  <thead>\n",
       "    <tr style=\"text-align: right;\">\n",
       "      <th></th>\n",
       "      <th>article_id</th>\n",
       "      <th>title</th>\n",
       "      <th>user_id</th>\n",
       "    </tr>\n",
       "  </thead>\n",
       "  <tbody>\n",
       "    <tr>\n",
       "      <th>0</th>\n",
       "      <td>1430.0</td>\n",
       "      <td>using pixiedust for fast, flexible, and easier...</td>\n",
       "      <td>1</td>\n",
       "    </tr>\n",
       "    <tr>\n",
       "      <th>1</th>\n",
       "      <td>1314.0</td>\n",
       "      <td>healthcare python streaming application demo</td>\n",
       "      <td>2</td>\n",
       "    </tr>\n",
       "    <tr>\n",
       "      <th>2</th>\n",
       "      <td>1429.0</td>\n",
       "      <td>use deep learning for image classification</td>\n",
       "      <td>3</td>\n",
       "    </tr>\n",
       "    <tr>\n",
       "      <th>3</th>\n",
       "      <td>1338.0</td>\n",
       "      <td>ml optimization using cognitive assistant</td>\n",
       "      <td>4</td>\n",
       "    </tr>\n",
       "    <tr>\n",
       "      <th>4</th>\n",
       "      <td>1276.0</td>\n",
       "      <td>deploy your python model as a restful api</td>\n",
       "      <td>5</td>\n",
       "    </tr>\n",
       "  </tbody>\n",
       "</table>\n",
       "</div>"
      ],
      "text/plain": [
       "   article_id                                              title  user_id\n",
       "0      1430.0  using pixiedust for fast, flexible, and easier...        1\n",
       "1      1314.0       healthcare python streaming application demo        2\n",
       "2      1429.0         use deep learning for image classification        3\n",
       "3      1338.0          ml optimization using cognitive assistant        4\n",
       "4      1276.0          deploy your python model as a restful api        5"
      ]
     },
     "execution_count": 19,
     "metadata": {},
     "output_type": "execute_result"
    }
   ],
   "source": [
    "## No need to change the code here - this will be helpful for later parts of the notebook\n",
    "# Run this cell to map the user email to a user_id column and remove the email column\n",
    "\n",
    "def email_mapper():\n",
    "    coded_dict = dict()\n",
    "    cter = 1\n",
    "    email_encoded = []\n",
    "    \n",
    "    for val in df['email']:\n",
    "        if val not in coded_dict:\n",
    "            coded_dict[val] = cter\n",
    "            cter+=1\n",
    "        \n",
    "        email_encoded.append(coded_dict[val])\n",
    "    return email_encoded\n",
    "\n",
    "email_encoded = email_mapper()\n",
    "del df['email']\n",
    "df['user_id'] = email_encoded\n",
    "\n",
    "# show header\n",
    "df.head()"
   ]
  },
  {
   "cell_type": "code",
   "execution_count": 20,
   "metadata": {},
   "outputs": [
    {
     "name": "stdout",
     "output_type": "stream",
     "text": [
      "It looks like you have everything right here! Nice job!\n"
     ]
    }
   ],
   "source": [
    "## If you stored all your results in the variable names above, \n",
    "## you shouldn't need to change anything in this cell\n",
    "\n",
    "sol_1_dict = {\n",
    "    '`50% of individuals have _____ or fewer interactions.`': median_val,\n",
    "    '`The total number of user-article interactions in the dataset is ______.`': user_article_interactions,\n",
    "    '`The maximum number of user-article interactions by any 1 user is ______.`': max_views_by_user,\n",
    "    '`The most viewed article in the dataset was viewed _____ times.`': max_views,\n",
    "    '`The article_id of the most viewed article is ______.`': most_viewed_article_id,\n",
    "    '`The number of unique articles that have at least 1 rating ______.`': unique_articles,\n",
    "    '`The number of unique users in the dataset is ______`': unique_users,\n",
    "    '`The number of unique articles on the IBM platform`': total_articles\n",
    "}\n",
    "\n",
    "# Test your dictionary against the solution\n",
    "t.sol_1_test(sol_1_dict)"
   ]
  },
  {
   "cell_type": "markdown",
   "metadata": {},
   "source": [
    "### <a class=\"anchor\" id=\"Rank\">Part II: Rank-Based Recommendations</a>\n",
    "\n",
    "Unlike in the earlier lessons, we don't actually have ratings for whether a user liked an article or not.  We only know that a user has interacted with an article.  In these cases, the popularity of an article can really only be based on how often an article was interacted with.\n",
    "\n",
    "`1.` Fill in the function below to return the **n** top articles ordered with most interactions as the top. Test your function using the tests below."
   ]
  },
  {
   "cell_type": "code",
   "execution_count": 21,
   "metadata": {},
   "outputs": [],
   "source": [
    "def get_top_articles(n, df=df):\n",
    "    '''\n",
    "    INPUT:\n",
    "    n - (int) the number of top articles to return\n",
    "    df - (pandas dataframe) df as defined at the top of the notebook \n",
    "    \n",
    "    OUTPUT:\n",
    "    top_articles - (list) A list of the top 'n' article titles \n",
    "    \n",
    "    '''\n",
    "    # Your code here\n",
    "    article_id_get = list(df['article_id'].value_counts().index[:n])\n",
    "    top_articles = []\n",
    "    for i in range(n):\n",
    "        article_title = df[df.article_id == article_id_get[i]]['title'].iloc[0]\n",
    "        top_articles.append(article_title)\n",
    "   \n",
    "    return top_articles # Return the top article titles from df (not df_content)\n",
    "\n",
    "def get_top_article_ids(n, df=df):\n",
    "    '''\n",
    "    INPUT:\n",
    "    n - (int) the number of top articles to return\n",
    "    df - (pandas dataframe) df as defined at the top of the notebook \n",
    "    \n",
    "    OUTPUT:\n",
    "    top_articles - (list) A list of the top 'n' article titles \n",
    "    \n",
    "    '''\n",
    "    # Your code here\n",
    "    top_articles = df['article_id'].value_counts().index.tolist()[:n]\n",
    "    top_articles = [str(i) for i in top_articles]\n",
    "    return top_articles # Return the top article ids"
   ]
  },
  {
   "cell_type": "code",
   "execution_count": 22,
   "metadata": {},
   "outputs": [
    {
     "name": "stdout",
     "output_type": "stream",
     "text": [
      "['use deep learning for image classification', 'insights from new york car accident reports', 'visualize car data with brunel', 'use xgboost, scikit-learn & ibm watson machine learning apis', 'predicting churn with the spss random tree algorithm', 'healthcare python streaming application demo', 'finding optimal locations of new store using decision optimization', 'apache spark lab, part 1: basic concepts', 'analyze energy consumption in buildings', 'gosales transactions for logistic regression model']\n",
      "['1429.0', '1330.0', '1431.0', '1427.0', '1364.0', '1314.0', '1293.0', '1170.0', '1162.0', '1304.0']\n"
     ]
    }
   ],
   "source": [
    "print(get_top_articles(10))\n",
    "print(get_top_article_ids(10))"
   ]
  },
  {
   "cell_type": "code",
   "execution_count": 23,
   "metadata": {},
   "outputs": [
    {
     "name": "stdout",
     "output_type": "stream",
     "text": [
      "Your top_5 looks like the solution list! Nice job.\n",
      "Your top_10 looks like the solution list! Nice job.\n",
      "Your top_20 looks like the solution list! Nice job.\n"
     ]
    }
   ],
   "source": [
    "# Test your function by returning the top 5, 10, and 20 articles\n",
    "top_5 = get_top_articles(5)\n",
    "top_10 = get_top_articles(10)\n",
    "top_20 = get_top_articles(20)\n",
    "\n",
    "# Test each of your three lists from above\n",
    "t.sol_2_test(get_top_articles)"
   ]
  },
  {
   "cell_type": "markdown",
   "metadata": {},
   "source": [
    "### <a class=\"anchor\" id=\"User-User\">Part III: User-User Based Collaborative Filtering</a>\n",
    "\n",
    "\n",
    "`1.` Use the function below to reformat the **df** dataframe to be shaped with users as the rows and articles as the columns.  \n",
    "\n",
    "* Each **user** should only appear in each **row** once.\n",
    "\n",
    "\n",
    "* Each **article** should only show up in one **column**.  \n",
    "\n",
    "\n",
    "* **If a user has interacted with an article, then place a 1 where the user-row meets for that article-column**.  It does not matter how many times a user has interacted with the article, all entries where a user has interacted with an article should be a 1.  \n",
    "\n",
    "\n",
    "* **If a user has not interacted with an item, then place a zero where the user-row meets for that article-column**. \n",
    "\n",
    "Use the tests to make sure the basic structure of your matrix matches what is expected by the solution."
   ]
  },
  {
   "cell_type": "code",
   "execution_count": 24,
   "metadata": {},
   "outputs": [],
   "source": [
    "# create the user-article matrix with 1's and 0's\n",
    "\n",
    "def create_user_item_matrix(df):\n",
    "    '''\n",
    "    INPUT:\n",
    "    df - pandas dataframe with article_id, title, user_id columns\n",
    "    \n",
    "    OUTPUT:\n",
    "    user_item - user item matrix \n",
    "    \n",
    "    Description:\n",
    "    Return a matrix with user ids as rows and article ids on the columns with 1 values where a user interacted with \n",
    "    an article and a 0 otherwise\n",
    "    '''\n",
    "    # Fill in the function here\n",
    "    user_item = df.groupby(['user_id', 'article_id'])['title'].count().unstack()\n",
    "    user_item = user_item.notnull().astype(int)\n",
    "    return user_item # return the user_item matrix \n",
    "\n",
    "user_item = create_user_item_matrix(df)"
   ]
  },
  {
   "cell_type": "code",
   "execution_count": 25,
   "metadata": {},
   "outputs": [
    {
     "name": "stdout",
     "output_type": "stream",
     "text": [
      "You have passed our quick tests!  Please proceed!\n"
     ]
    }
   ],
   "source": [
    "## Tests: You should just need to run this cell.  Don't change the code.\n",
    "assert user_item.shape[0] == 5149, \"Oops!  The number of users in the user-article matrix doesn't look right.\"\n",
    "assert user_item.shape[1] == 714, \"Oops!  The number of articles in the user-article matrix doesn't look right.\"\n",
    "assert user_item.sum(axis=1)[1] == 36, \"Oops!  The number of articles seen by user 1 doesn't look right.\"\n",
    "print(\"You have passed our quick tests!  Please proceed!\")"
   ]
  },
  {
   "cell_type": "markdown",
   "metadata": {},
   "source": [
    "`2.` Complete the function below which should take a user_id and provide an ordered list of the most similar users to that user (from most similar to least similar).  The returned result should not contain the provided user_id, as we know that each user is similar to him/herself. Because the results for each user here are binary, it (perhaps) makes sense to compute similarity as the dot product of two users. \n",
    "\n",
    "Use the tests to test your function."
   ]
  },
  {
   "cell_type": "code",
   "execution_count": 26,
   "metadata": {},
   "outputs": [],
   "source": [
    "def find_similar_users(user_id, user_item=user_item):\n",
    "    '''\n",
    "    INPUT:\n",
    "    user_id - (int) a user_id\n",
    "    user_item - (pandas dataframe) matrix of users by articles: \n",
    "                1's when a user has interacted with an article, 0 otherwise\n",
    "    \n",
    "    OUTPUT:\n",
    "    similar_users - (list) an ordered list where the closest users (largest dot product users)\n",
    "                    are listed first\n",
    "    \n",
    "    Description:\n",
    "    Computes the similarity of every pair of users based on the dot product\n",
    "    Returns an ordered\n",
    "    \n",
    "    '''\n",
    "    # compute similarity of each user to the provided user\n",
    "    similarity = user_item.dot(user_item.loc[user_id])\n",
    "    # sort by similarity\n",
    "    similarity = similarity.sort_values(ascending=False)\n",
    "    # create list of just the ids\n",
    "    most_similar_users = similarity.index.tolist()\n",
    "    # remove the own user's id\n",
    "    most_similar_users.remove(user_id) \n",
    "    return most_similar_users # return a list of the users in order from most to least similar\n",
    "        "
   ]
  },
  {
   "cell_type": "code",
   "execution_count": 27,
   "metadata": {},
   "outputs": [
    {
     "name": "stdout",
     "output_type": "stream",
     "text": [
      "The 10 most similar users to user 1 are: [3933, 23, 3782, 203, 4459, 131, 3870, 46, 4201, 5041]\n",
      "The 5 most similar users to user 3933 are: [1, 23, 3782, 4459, 203]\n",
      "The 3 most similar users to user 46 are: [4201, 23, 3782]\n"
     ]
    }
   ],
   "source": [
    "# Do a spot check of your function\n",
    "print(\"The 10 most similar users to user 1 are: {}\".format(find_similar_users(1)[:10]))\n",
    "print(\"The 5 most similar users to user 3933 are: {}\".format(find_similar_users(3933)[:5]))\n",
    "print(\"The 3 most similar users to user 46 are: {}\".format(find_similar_users(46)[:3]))"
   ]
  },
  {
   "cell_type": "markdown",
   "metadata": {},
   "source": [
    "`3.` Now that you have a function that provides the most similar users to each user, you will want to use these users to find articles you can recommend.  Complete the functions below to return the articles you would recommend to each user. "
   ]
  },
  {
   "cell_type": "code",
   "execution_count": 28,
   "metadata": {},
   "outputs": [],
   "source": [
    "def get_article_names(article_ids, df=df):\n",
    "    '''\n",
    "    INPUT:\n",
    "    article_ids - (list) a list of article ids\n",
    "    df - (pandas dataframe) df as defined at the top of the notebook\n",
    "    \n",
    "    OUTPUT:\n",
    "    article_names - (list) a list of article names associated with the list of article ids \n",
    "                    (this is identified by the title column)\n",
    "    '''\n",
    "    # Your code here\n",
    "    article_names = []\n",
    "    for article in article_ids:\n",
    "        name = df[df['article_id'] == float(article)]['title'].iloc[0]\n",
    "        article_names.append(name)\n",
    "    return article_names # Return the article names associated with list of article ids\n",
    "\n",
    "\n",
    "def get_user_articles(user_id, user_item=user_item):\n",
    "    '''\n",
    "    INPUT:\n",
    "    user_id - (int) a user id\n",
    "    user_item - (pandas dataframe) matrix of users by articles: \n",
    "                1's when a user has interacted with an article, 0 otherwise\n",
    "    \n",
    "    OUTPUT:\n",
    "    article_ids - (list) a list of the article ids seen by the user\n",
    "    article_names - (list) a list of article names associated with the list of article ids \n",
    "                    (this is identified by the doc_full_name column in df_content)\n",
    "    \n",
    "    Description:\n",
    "    Provides a list of the article_ids and article titles that have been seen by a user\n",
    "    '''\n",
    "    # Your code here\n",
    "    article_ids = user_item.loc[user_id]\n",
    "    article_ids = [str(a_id) for a_id in article_ids[article_ids == 1].index]\n",
    "    article_names = get_article_names(article_ids)\n",
    "    return article_ids, article_names # return the ids and names\n",
    "\n",
    "\n",
    "def user_user_recs(user_id, m=10):\n",
    "    '''\n",
    "    INPUT:\n",
    "    user_id - (int) a user id\n",
    "    m - (int) the number of recommendations you want for the user\n",
    "    \n",
    "    OUTPUT:\n",
    "    recs - (list) a list of recommendations for the user\n",
    "    \n",
    "    Description:\n",
    "    Loops through the users based on closeness to the input user_id\n",
    "    For each user - finds articles the user hasn't seen before and provides them as recs\n",
    "    Does this until m recommendations are found\n",
    "    \n",
    "    Notes:\n",
    "    Users who are the same closeness are chosen arbitrarily as the 'next' user\n",
    "    \n",
    "    For the user where the number of recommended articles starts below m \n",
    "    and ends exceeding m, the last items are chosen arbitrarily\n",
    "    \n",
    "    '''\n",
    "    # Your code here\n",
    "    seen_ids, seen_names = get_user_articles(user_id)\n",
    "    \n",
    "    # Find similar users\n",
    "    similar_users = find_similar_users(user_id)\n",
    "    recs = []\n",
    "    for user in similar_users:\n",
    "        article_ids, article_names = get_user_articles(user)\n",
    "        not_seen = list(set(article_ids) - (set(seen_ids) & set(article_ids)))\n",
    "        recs.extend(not_seen)\n",
    "        if len(recs) > m:\n",
    "            break\n",
    "    return recs # return your recommendations for this user_id    "
   ]
  },
  {
   "cell_type": "code",
   "execution_count": 29,
   "metadata": {},
   "outputs": [
    {
     "data": {
      "text/plain": [
       "['markdown for jupyter notebooks cheatsheet',\n",
       " 'from scikit-learn model to cloud with wml client',\n",
       " 'intents & examples for ibm watson conversation',\n",
       " 'this week in data science (april 25, 2017)',\n",
       " 'this week in data science (april 18, 2017)',\n",
       " 'use sql with data in hadoop python',\n",
       " 'brunel in jupyter',\n",
       " 'easy json loading and social sharing in dsx notebooks',\n",
       " 'airbnb data for analytics: mallorca reviews',\n",
       " '56594    lifelong (machine) learning: how automation ca...\\nName: title, dtype: object',\n",
       " 'analyze accident reports on amazon emr spark',\n",
       " 'deploy your python model as a restful api',\n",
       " 'build a python app on the streaming analytics service',\n",
       " 'visualize data with the matplotlib library',\n",
       " '5 practical use cases of social network analytics: going beyond facebook and twitter',\n",
       " '1448    i ranked every intro to data science course on...\\nName: title, dtype: object',\n",
       " '54174    detect potentially malfunctioning sensors in r...\\nName: title, dtype: object',\n",
       " 'this week in data science (may 30, 2017)',\n",
       " '502    forgetting the past to learn the future: long ...\\nName: title, dtype: object',\n",
       " 'apache spark lab, part 3: machine learning',\n",
       " 'using brunel in ipython/jupyter notebooks',\n",
       " 'accelerate your workflow with dsx',\n",
       " 'movie recommender system with spark machine learning',\n",
       " 'aspiring data scientists! start to learn statistics with these 6 books!',\n",
       " 'machine learning exercises in python, part 1',\n",
       " 'a dynamic duo – inside machine learning – medium',\n",
       " 'this week in data science (may 2, 2017)',\n",
       " 'apache spark lab, part 2: querying data',\n",
       " 'analyze precipitation data',\n",
       " 'ml optimization using cognitive assistant',\n",
       " 'insights from new york car accident reports',\n",
       " 'perform sentiment analysis with lstms, using tensorflow',\n",
       " 'working with db2 warehouse on cloud in data science experience',\n",
       " 'gosales transactions for logistic regression model',\n",
       " 'automating web analytics through python',\n",
       " 'what is smote in an imbalanced class setting (e.g. fraud detection)?',\n",
       " 'brunel interactive visualizations in jupyter notebooks',\n",
       " 'visualising data the node.js way',\n",
       " 'using machine learning to predict parking difficulty',\n",
       " 'better together: spss and data science experience',\n",
       " 'i am not a data scientist – ibm watson data lab',\n",
       " 'experience iot with coursera',\n",
       " 'shaping data with ibm data refinery',\n",
       " 'data tidying in data science experience',\n",
       " 'fertility rate by country in total births per woman',\n",
       " 'analyze energy consumption in buildings',\n",
       " 'pixiedust 1.0 is here! – ibm watson data lab',\n",
       " 'higher-order logistic regression for large datasets',\n",
       " 'deep learning achievements over the past year ',\n",
       " 'machine learning for the enterprise',\n",
       " 'small steps to tensorflow',\n",
       " 'data visualization playbook: telling the data story',\n",
       " 'timeseries data analysis of iot events by using jupyter notebook',\n",
       " 'predicting churn with the spss random tree algorithm',\n",
       " 'got zip code data? prep it for analytics. – ibm watson data lab – medium',\n",
       " 'pixiedust gets its first community-driven feature in 1.0.4',\n",
       " 'use decision optimization to schedule league games',\n",
       " 'deep learning with data science experience',\n",
       " 'the unit commitment problem',\n",
       " 'the nurse assignment problem',\n",
       " 'declarative machine learning',\n",
       " 'times world university ranking analysis',\n",
       " 'dsx: hybrid mode',\n",
       " 'spark-based machine learning tools for capturing word meanings',\n",
       " 'how smart catalogs can turn the big data flood into an ocean of opportunity',\n",
       " 'leverage python, scikit, and text classification for behavioral profiling',\n",
       " 'web picks (week of 4 september 2017)',\n",
       " 'data science platforms are on the rise and ibm is leading the way',\n",
       " 'get started with streams designer by following this roadmap',\n",
       " 'programmatic evaluation using watson conversation',\n",
       " 'simple graphing with ipython and\\xa0pandas',\n",
       " 'model bike sharing data with spss',\n",
       " 'using rstudio in ibm data science experience',\n",
       " 'maximize oil company profits',\n",
       " 'analyze open data sets with pandas dataframes',\n",
       " 'the power of machine learning in spark',\n",
       " 'analyze facebook data using ibm watson and watson studio',\n",
       " 'pixieapp for outlier detection',\n",
       " 'get social with your notebooks in dsx',\n",
       " 'using deep learning with keras to predict customer churn',\n",
       " 'recommender systems: approaches & algorithms',\n",
       " 'analyze open data sets with spark & pixiedust',\n",
       " 'using bigdl in dsx for deep learning on spark',\n",
       " 'from spark ml model to online scoring with scala',\n",
       " 'spark 2.1 and job monitoring available in dsx',\n",
       " 'modeling energy usage in new york city',\n",
       " 'generalization in deep learning',\n",
       " 'machine learning and the science of choosing',\n",
       " 'why even a moth’s brain is smarter than an ai',\n",
       " 'overlapping co-cluster recommendation algorithm (ocular)',\n",
       " 'optimizing a marketing campaign: moving from predictions to actions',\n",
       " 'this week in data science (february 14, 2017)',\n",
       " 'analyzing data by using the sparkling.data library features',\n",
       " 'challenges in deep learning',\n",
       " 'ml algorithm != learning machine',\n",
       " 'deep learning from scratch i: computational graphs',\n",
       " 'a tensorflow regression model to predict house values',\n",
       " 'healthcare python streaming application demo',\n",
       " 'process events from the watson iot platform in a streams python application',\n",
       " 'data science for real-time streaming analytics',\n",
       " 'car performance data',\n",
       " 'improving real-time object detection with yolo',\n",
       " 'brunel 2.0 preview',\n",
       " 'discover hidden facebook usage insights',\n",
       " 'graph-based machine learning',\n",
       " 'python machine learning: scikit-learn tutorial',\n",
       " 'using github for project control in dsx',\n",
       " 'flightpredict ii: the sequel  – ibm watson data lab',\n",
       " 'awesome deep learning papers',\n",
       " 'twelve\\xa0ways to color a map of africa using brunel',\n",
       " 'deep forest: towards an alternative to deep neural networks',\n",
       " 'variational auto-encoder for \"frey faces\" using keras',\n",
       " 'learn basics about notebooks and apache spark',\n",
       " 'learn tensorflow and deep learning together and now!',\n",
       " 'the 3 kinds of context: machine learning and the art of the frame',\n",
       " 'airbnb data for analytics: vancouver listings',\n",
       " '520    using notebooks with pixiedust for fast, flexi...\\nName: title, dtype: object',\n",
       " 'recent trends in recommender systems']"
      ]
     },
     "execution_count": 29,
     "metadata": {},
     "output_type": "execute_result"
    }
   ],
   "source": [
    "# Check Results\n",
    "get_article_names(user_user_recs(1, 10)) # Return 10 recommendations for user 1"
   ]
  },
  {
   "cell_type": "code",
   "execution_count": 30,
   "metadata": {},
   "outputs": [
    {
     "name": "stdout",
     "output_type": "stream",
     "text": [
      "If this is all you see, you passed all of our tests!  Nice job!\n"
     ]
    }
   ],
   "source": [
    "# Test your functions here - No need to change this code - just run this cell\n",
    "assert set(get_article_names(['1024.0', '1176.0', '1305.0', '1314.0', '1422.0', '1427.0'])) == set(['using deep learning to reconstruct high-resolution audio', 'build a python app on the streaming analytics service', 'gosales transactions for naive bayes model', 'healthcare python streaming application demo', 'use r dataframes & ibm watson natural language understanding', 'use xgboost, scikit-learn & ibm watson machine learning apis']), \"Oops! Your the get_article_names function doesn't work quite how we expect.\"\n",
    "assert set(get_article_names(['1320.0', '232.0', '844.0'])) == set(['housing (2015): united states demographic measures','self-service data preparation with ibm data refinery','use the cloudant-spark connector in python notebook']), \"Oops! Your the get_article_names function doesn't work quite how we expect.\"\n",
    "assert set(get_user_articles(20)[0]) == set(['1320.0', '232.0', '844.0'])\n",
    "assert set(get_user_articles(20)[1]) == set(['housing (2015): united states demographic measures', 'self-service data preparation with ibm data refinery','use the cloudant-spark connector in python notebook'])\n",
    "assert set(get_user_articles(2)[0]) == set(['1024.0', '1176.0', '1305.0', '1314.0', '1422.0', '1427.0'])\n",
    "assert set(get_user_articles(2)[1]) == set(['using deep learning to reconstruct high-resolution audio', 'build a python app on the streaming analytics service', 'gosales transactions for naive bayes model', 'healthcare python streaming application demo', 'use r dataframes & ibm watson natural language understanding', 'use xgboost, scikit-learn & ibm watson machine learning apis'])\n",
    "print(\"If this is all you see, you passed all of our tests!  Nice job!\")"
   ]
  },
  {
   "cell_type": "markdown",
   "metadata": {},
   "source": [
    "`4.` Now we are going to improve the consistency of the **user_user_recs** function from above.  \n",
    "\n",
    "* Instead of arbitrarily choosing when we obtain users who are all the same closeness to a given user - choose the users that have the most total article interactions before choosing those with fewer article interactions.\n",
    "\n",
    "\n",
    "* Instead of arbitrarily choosing articles from the user where the number of recommended articles starts below m and ends exceeding m, choose articles with the articles with the most total interactions before choosing those with fewer total interactions. This ranking should be  what would be obtained from the **top_articles** function you wrote earlier."
   ]
  },
  {
   "cell_type": "code",
   "execution_count": 31,
   "metadata": {},
   "outputs": [],
   "source": [
    "def get_top_sorted_users(user_id, df=df, user_item=user_item):\n",
    "    '''\n",
    "    INPUT:\n",
    "    user_id - (int)\n",
    "    df - (pandas dataframe) df as defined at the top of the notebook \n",
    "    user_item - (pandas dataframe) matrix of users by articles: \n",
    "            1's when a user has interacted with an article, 0 otherwise\n",
    "    \n",
    "            \n",
    "    OUTPUT:\n",
    "    neighbors_df - (pandas dataframe) a dataframe with:\n",
    "                    neighbor_id - is a neighbor user_id\n",
    "                    similarity - measure of the similarity of each user to the provided user_id\n",
    "                    num_interactions - the number of articles viewed by the user - if a u\n",
    "                    \n",
    "    Other Details - sort the neighbors_df by the similarity and then by number of interactions where \n",
    "                    highest of each is higher in the dataframe\n",
    "     \n",
    "    '''\n",
    "    # Your code here\n",
    "    # create neighbors dataframe with empty columns\n",
    "    neighbors_df = pd.DataFrame(columns=['neighbor_id', 'similarity'])\n",
    "    # set the neighbor_id column to start at 1 and same as index of the user_item column\n",
    "    neighbors_df['neighbor_id'] = user_item.index-1\n",
    "    # using dot_product to set the similarity column's value to the most similar.\n",
    "    user_dot_product = user_item.dot(np.transpose(user_item))\n",
    "    neighbors_df['similarity'] = user_dot_product[user_id]\n",
    "    # build a new df based on the number of user interactions\n",
    "    interacts_df = df.user_id.value_counts().rename_axis('neighbor_id').reset_index(name='num_interactions')\n",
    "    # combine dataframes from interacts_df that provide the number of interactions column.\n",
    "    neighbors_df = pd.merge(neighbors_df, interacts_df, on='neighbor_id', how='outer')\n",
    "    # values according to similarity and then interactions\n",
    "    neighbors_df = neighbors_df.sort_values(by=['similarity', 'num_interactions'], ascending = False)\n",
    "    # reset index\n",
    "    neighbors_df = neighbors_df.reset_index(drop=True)\n",
    "    # drop row that contains the user_id as its own will be most comparable.\n",
    "    neighbors_df = neighbors_df[neighbors_df.neighbor_id != user_id]\n",
    "    # Return the dataframe specified in the doc_string\n",
    "    return neighbors_df \n",
    "\n",
    "\n",
    "def user_user_recs_part2(user_id, m=10):\n",
    "    '''\n",
    "    INPUT:\n",
    "    user_id - (int) a user id\n",
    "    m - (int) the number of recommendations you want for the user\n",
    "    \n",
    "    OUTPUT:\n",
    "    recs - (list) a list of recommendations for the user by article id\n",
    "    rec_names - (list) a list of recommendations for the user by article title\n",
    "    \n",
    "    Description:\n",
    "    Loops through the users based on closeness to the input user_id\n",
    "    For each user - finds articles the user hasn't seen before and provides them as recs\n",
    "    Does this until m recommendations are found\n",
    "    \n",
    "    Notes:\n",
    "    * Choose the users that have the most total article interactions \n",
    "    before choosing those with fewer article interactions.\n",
    "\n",
    "    * Choose articles with the articles with the most total interactions \n",
    "    before choosing those with fewer total interactions. \n",
    "   \n",
    "    '''\n",
    "    # Your code here\n",
    "    # Get neighbors\n",
    "    neighbors_df = get_top_sorted_users(user_id)\n",
    "    \n",
    "    # Top neighbors\n",
    "    top_neighbors = list(neighbors_df[:m]['neighbor_id'])\n",
    "\n",
    "    # Articles viewed by top neighbors\n",
    "    recs = []\n",
    "    for u_id in top_neighbors:\n",
    "        article_ids = user_item.loc[u_id]\n",
    "        recs.extend([str(a_id) for a_id in article_ids[article_ids == 1].index])\n",
    "\n",
    "    # Unique values\n",
    "    recs = list(set(recs[:m]))\n",
    "\n",
    "    # Find unique article names\n",
    "    rec_names = list(set(df[df['article_id'].isin(recs)]['title']))\n",
    "\n",
    "    return recs, rec_names"
   ]
  },
  {
   "cell_type": "code",
   "execution_count": 32,
   "metadata": {},
   "outputs": [
    {
     "name": "stdout",
     "output_type": "stream",
     "text": [
      "The top 10 recommendations for user 20 are the following article ids:\n",
      "['302.0', '362.0', '232.0', '164.0', '125.0', '142.0', '205.0', '109.0', '336.0', '12.0']\n",
      "\n",
      "The top 10 recommendations for user 20 are the following article names:\n",
      "['challenges in deep learning', 'dsx: hybrid mode', 'neural networks for beginners: popular types and applications', 'accelerate your workflow with dsx', 'timeseries data analysis of iot events by using jupyter notebook', 'learn tensorflow and deep learning together and now!', \"a beginner's guide to variational methods\", 'statistics for hackers', 'tensorflow quick tips', 'self-service data preparation with ibm data refinery']\n"
     ]
    }
   ],
   "source": [
    "# Quick spot check - don't change this code - just use it to test your functions\n",
    "rec_ids, rec_names = user_user_recs_part2(20, 10)\n",
    "print(\"The top 10 recommendations for user 20 are the following article ids:\")\n",
    "print(rec_ids)\n",
    "print()\n",
    "print(\"The top 10 recommendations for user 20 are the following article names:\")\n",
    "print(rec_names)"
   ]
  },
  {
   "cell_type": "markdown",
   "metadata": {},
   "source": [
    "`5.` Use your functions from above to correctly fill in the solutions to the dictionary below.  Then test your dictionary against the solution.  Provide the code you need to answer each following the comments below."
   ]
  },
  {
   "cell_type": "code",
   "execution_count": 33,
   "metadata": {},
   "outputs": [
    {
     "data": {
      "text/plain": [
       "neighbor_id         3933.0\n",
       "similarity            35.0\n",
       "num_interactions      45.0\n",
       "Name: 1, dtype: float64"
      ]
     },
     "execution_count": 33,
     "metadata": {},
     "output_type": "execute_result"
    }
   ],
   "source": [
    "# Find the user that is most similar to user 1 \n",
    "get_top_sorted_users(1).iloc[0]"
   ]
  },
  {
   "cell_type": "code",
   "execution_count": 34,
   "metadata": {},
   "outputs": [
    {
     "data": {
      "text/plain": [
       "neighbor_id         242.0\n",
       "similarity           25.0\n",
       "num_interactions    148.0\n",
       "Name: 10, dtype: float64"
      ]
     },
     "execution_count": 34,
     "metadata": {},
     "output_type": "execute_result"
    }
   ],
   "source": [
    "# Find the 10th most similar user to user 131\n",
    "get_top_sorted_users(131).iloc[9]"
   ]
  },
  {
   "cell_type": "code",
   "execution_count": 35,
   "metadata": {},
   "outputs": [],
   "source": [
    "### Tests with a dictionary of results\n",
    "\n",
    "user1_most_sim = 3933 # Find the user that is most similar to user 1 \n",
    "user131_10th_sim = 242 # Find the 10th most similar user to user 131"
   ]
  },
  {
   "cell_type": "code",
   "execution_count": 36,
   "metadata": {},
   "outputs": [
    {
     "name": "stdout",
     "output_type": "stream",
     "text": [
      "This all looks good!  Nice job!\n"
     ]
    }
   ],
   "source": [
    "## Dictionary Test Here\n",
    "sol_5_dict = {\n",
    "    'The user that is most similar to user 1.': user1_most_sim, \n",
    "    'The user that is the 10th most similar to user 131': user131_10th_sim,\n",
    "}\n",
    "\n",
    "t.sol_5_test(sol_5_dict)"
   ]
  },
  {
   "cell_type": "markdown",
   "metadata": {},
   "source": [
    "`6.` If we were given a new user, which of the above functions would you be able to use to make recommendations?  Explain.  Can you think of a better way we might make recommendations?  Use the cell below to explain a better method for new users."
   ]
  },
  {
   "cell_type": "markdown",
   "metadata": {},
   "source": [
    "**Provide your response here.**"
   ]
  },
  {
   "cell_type": "markdown",
   "metadata": {},
   "source": [
    "`7.` Using your existing functions, provide the top 10 recommended articles you would provide for the a new user below.  You can test your function against our thoughts to make sure we are all on the same page with how we might make a recommendation."
   ]
  },
  {
   "cell_type": "code",
   "execution_count": 37,
   "metadata": {},
   "outputs": [],
   "source": [
    "new_user = '0.0'\n",
    "\n",
    "# What would your recommendations be for this new user '0.0'?  As a new user, they have no observed articles.\n",
    "# Provide a list of the top 10 article ids you would give to \n",
    "new_user_recs = get_top_article_ids(10) # Your recommendations here\n",
    "\n"
   ]
  },
  {
   "cell_type": "code",
   "execution_count": 38,
   "metadata": {},
   "outputs": [
    {
     "name": "stdout",
     "output_type": "stream",
     "text": [
      "That's right!  Nice job!\n"
     ]
    }
   ],
   "source": [
    "assert set(new_user_recs) == set(['1314.0','1429.0','1293.0','1427.0','1162.0','1364.0','1304.0','1170.0','1431.0','1330.0']), \"Oops!  It makes sense that in this case we would want to recommend the most popular articles, because we don't know anything about these users.\"\n",
    "\n",
    "print(\"That's right!  Nice job!\")"
   ]
  },
  {
   "cell_type": "markdown",
   "metadata": {},
   "source": [
    "### <a class=\"anchor\" id=\"Content-Recs\">Part IV: Content Based Recommendations (EXTRA - NOT REQUIRED)</a>\n",
    "\n",
    "Another method we might use to make recommendations is to perform a ranking of the highest ranked articles associated with some term.  You might consider content to be the **doc_body**, **doc_description**, or **doc_full_name**.  There isn't one way to create a content based recommendation, especially considering that each of these columns hold content related information.  \n",
    "\n",
    "`1.` Use the function body below to create a content based recommender.  Since there isn't one right answer for this recommendation tactic, no test functions are provided.  Feel free to change the function inputs if you decide you want to try a method that requires more input values.  The input values are currently set with one idea in mind that you may use to make content based recommendations.  One additional idea is that you might want to choose the most popular recommendations that meet your 'content criteria', but again, there is a lot of flexibility in how you might make these recommendations.\n",
    "\n",
    "### This part is NOT REQUIRED to pass this project.  However, you may choose to take this on as an extra way to show off your skills."
   ]
  },
  {
   "cell_type": "code",
   "execution_count": 39,
   "metadata": {},
   "outputs": [],
   "source": [
    "def make_content_recs():\n",
    "    '''\n",
    "    INPUT:\n",
    "    \n",
    "    OUTPUT:\n",
    "    \n",
    "    '''"
   ]
  },
  {
   "cell_type": "markdown",
   "metadata": {},
   "source": [
    "`2.` Now that you have put together your content-based recommendation system, use the cell below to write a summary explaining how your content based recommender works.  Do you see any possible improvements that could be made to your function?  Is there anything novel about your content based recommender?\n",
    "\n",
    "### This part is NOT REQUIRED to pass this project.  However, you may choose to take this on as an extra way to show off your skills."
   ]
  },
  {
   "cell_type": "markdown",
   "metadata": {},
   "source": [
    "**Write an explanation of your content based recommendation system here.**"
   ]
  },
  {
   "cell_type": "markdown",
   "metadata": {},
   "source": [
    "`3.` Use your content-recommendation system to make recommendations for the below scenarios based on the comments.  Again no tests are provided here, because there isn't one right answer that could be used to find these content based recommendations.\n",
    "\n",
    "### This part is NOT REQUIRED to pass this project.  However, you may choose to take this on as an extra way to show off your skills."
   ]
  },
  {
   "cell_type": "code",
   "execution_count": 40,
   "metadata": {},
   "outputs": [],
   "source": [
    "# make recommendations for a brand new user\n",
    "\n",
    "\n",
    "# make a recommendations for a user who only has interacted with article id '1427.0'\n",
    "\n"
   ]
  },
  {
   "cell_type": "markdown",
   "metadata": {},
   "source": [
    "### <a class=\"anchor\" id=\"Matrix-Fact\">Part V: Matrix Factorization</a>\n",
    "\n",
    "In this part of the notebook, you will build use matrix factorization to make article recommendations to the users on the IBM Watson Studio platform.\n",
    "\n",
    "`1.` You should have already created a **user_item** matrix above in **question 1** of **Part III** above.  This first question here will just require that you run the cells to get things set up for the rest of **Part V** of the notebook. "
   ]
  },
  {
   "cell_type": "code",
   "execution_count": 41,
   "metadata": {},
   "outputs": [],
   "source": [
    "# Load the matrix here\n",
    "user_item_matrix = pd.read_pickle('user_item_matrix.p')"
   ]
  },
  {
   "cell_type": "code",
   "execution_count": 42,
   "metadata": {},
   "outputs": [
    {
     "data": {
      "text/html": [
       "<div>\n",
       "<style scoped>\n",
       "    .dataframe tbody tr th:only-of-type {\n",
       "        vertical-align: middle;\n",
       "    }\n",
       "\n",
       "    .dataframe tbody tr th {\n",
       "        vertical-align: top;\n",
       "    }\n",
       "\n",
       "    .dataframe thead th {\n",
       "        text-align: right;\n",
       "    }\n",
       "</style>\n",
       "<table border=\"1\" class=\"dataframe\">\n",
       "  <thead>\n",
       "    <tr style=\"text-align: right;\">\n",
       "      <th>article_id</th>\n",
       "      <th>0.0</th>\n",
       "      <th>100.0</th>\n",
       "      <th>1000.0</th>\n",
       "      <th>1004.0</th>\n",
       "      <th>1006.0</th>\n",
       "      <th>1008.0</th>\n",
       "      <th>101.0</th>\n",
       "      <th>1014.0</th>\n",
       "      <th>1015.0</th>\n",
       "      <th>1016.0</th>\n",
       "      <th>...</th>\n",
       "      <th>977.0</th>\n",
       "      <th>98.0</th>\n",
       "      <th>981.0</th>\n",
       "      <th>984.0</th>\n",
       "      <th>985.0</th>\n",
       "      <th>986.0</th>\n",
       "      <th>990.0</th>\n",
       "      <th>993.0</th>\n",
       "      <th>996.0</th>\n",
       "      <th>997.0</th>\n",
       "    </tr>\n",
       "    <tr>\n",
       "      <th>user_id</th>\n",
       "      <th></th>\n",
       "      <th></th>\n",
       "      <th></th>\n",
       "      <th></th>\n",
       "      <th></th>\n",
       "      <th></th>\n",
       "      <th></th>\n",
       "      <th></th>\n",
       "      <th></th>\n",
       "      <th></th>\n",
       "      <th></th>\n",
       "      <th></th>\n",
       "      <th></th>\n",
       "      <th></th>\n",
       "      <th></th>\n",
       "      <th></th>\n",
       "      <th></th>\n",
       "      <th></th>\n",
       "      <th></th>\n",
       "      <th></th>\n",
       "      <th></th>\n",
       "    </tr>\n",
       "  </thead>\n",
       "  <tbody>\n",
       "    <tr>\n",
       "      <th>1</th>\n",
       "      <td>0.0</td>\n",
       "      <td>0.0</td>\n",
       "      <td>0.0</td>\n",
       "      <td>0.0</td>\n",
       "      <td>0.0</td>\n",
       "      <td>0.0</td>\n",
       "      <td>0.0</td>\n",
       "      <td>0.0</td>\n",
       "      <td>0.0</td>\n",
       "      <td>0.0</td>\n",
       "      <td>...</td>\n",
       "      <td>0.0</td>\n",
       "      <td>0.0</td>\n",
       "      <td>1.0</td>\n",
       "      <td>0.0</td>\n",
       "      <td>0.0</td>\n",
       "      <td>0.0</td>\n",
       "      <td>0.0</td>\n",
       "      <td>0.0</td>\n",
       "      <td>0.0</td>\n",
       "      <td>0.0</td>\n",
       "    </tr>\n",
       "    <tr>\n",
       "      <th>2</th>\n",
       "      <td>0.0</td>\n",
       "      <td>0.0</td>\n",
       "      <td>0.0</td>\n",
       "      <td>0.0</td>\n",
       "      <td>0.0</td>\n",
       "      <td>0.0</td>\n",
       "      <td>0.0</td>\n",
       "      <td>0.0</td>\n",
       "      <td>0.0</td>\n",
       "      <td>0.0</td>\n",
       "      <td>...</td>\n",
       "      <td>0.0</td>\n",
       "      <td>0.0</td>\n",
       "      <td>0.0</td>\n",
       "      <td>0.0</td>\n",
       "      <td>0.0</td>\n",
       "      <td>0.0</td>\n",
       "      <td>0.0</td>\n",
       "      <td>0.0</td>\n",
       "      <td>0.0</td>\n",
       "      <td>0.0</td>\n",
       "    </tr>\n",
       "    <tr>\n",
       "      <th>3</th>\n",
       "      <td>0.0</td>\n",
       "      <td>0.0</td>\n",
       "      <td>0.0</td>\n",
       "      <td>0.0</td>\n",
       "      <td>0.0</td>\n",
       "      <td>0.0</td>\n",
       "      <td>0.0</td>\n",
       "      <td>0.0</td>\n",
       "      <td>0.0</td>\n",
       "      <td>0.0</td>\n",
       "      <td>...</td>\n",
       "      <td>1.0</td>\n",
       "      <td>0.0</td>\n",
       "      <td>0.0</td>\n",
       "      <td>0.0</td>\n",
       "      <td>0.0</td>\n",
       "      <td>0.0</td>\n",
       "      <td>0.0</td>\n",
       "      <td>0.0</td>\n",
       "      <td>0.0</td>\n",
       "      <td>0.0</td>\n",
       "    </tr>\n",
       "    <tr>\n",
       "      <th>4</th>\n",
       "      <td>0.0</td>\n",
       "      <td>0.0</td>\n",
       "      <td>0.0</td>\n",
       "      <td>0.0</td>\n",
       "      <td>0.0</td>\n",
       "      <td>0.0</td>\n",
       "      <td>0.0</td>\n",
       "      <td>0.0</td>\n",
       "      <td>0.0</td>\n",
       "      <td>0.0</td>\n",
       "      <td>...</td>\n",
       "      <td>0.0</td>\n",
       "      <td>0.0</td>\n",
       "      <td>0.0</td>\n",
       "      <td>0.0</td>\n",
       "      <td>0.0</td>\n",
       "      <td>0.0</td>\n",
       "      <td>0.0</td>\n",
       "      <td>0.0</td>\n",
       "      <td>0.0</td>\n",
       "      <td>0.0</td>\n",
       "    </tr>\n",
       "    <tr>\n",
       "      <th>5</th>\n",
       "      <td>0.0</td>\n",
       "      <td>0.0</td>\n",
       "      <td>0.0</td>\n",
       "      <td>0.0</td>\n",
       "      <td>0.0</td>\n",
       "      <td>0.0</td>\n",
       "      <td>0.0</td>\n",
       "      <td>0.0</td>\n",
       "      <td>0.0</td>\n",
       "      <td>0.0</td>\n",
       "      <td>...</td>\n",
       "      <td>0.0</td>\n",
       "      <td>0.0</td>\n",
       "      <td>0.0</td>\n",
       "      <td>0.0</td>\n",
       "      <td>0.0</td>\n",
       "      <td>0.0</td>\n",
       "      <td>0.0</td>\n",
       "      <td>0.0</td>\n",
       "      <td>0.0</td>\n",
       "      <td>0.0</td>\n",
       "    </tr>\n",
       "  </tbody>\n",
       "</table>\n",
       "<p>5 rows × 714 columns</p>\n",
       "</div>"
      ],
      "text/plain": [
       "article_id  0.0  100.0  1000.0  1004.0  1006.0  1008.0  101.0  1014.0  1015.0  \\\n",
       "user_id                                                                         \n",
       "1           0.0    0.0     0.0     0.0     0.0     0.0    0.0     0.0     0.0   \n",
       "2           0.0    0.0     0.0     0.0     0.0     0.0    0.0     0.0     0.0   \n",
       "3           0.0    0.0     0.0     0.0     0.0     0.0    0.0     0.0     0.0   \n",
       "4           0.0    0.0     0.0     0.0     0.0     0.0    0.0     0.0     0.0   \n",
       "5           0.0    0.0     0.0     0.0     0.0     0.0    0.0     0.0     0.0   \n",
       "\n",
       "article_id  1016.0  ...    977.0  98.0  981.0  984.0  985.0  986.0  990.0  \\\n",
       "user_id             ...                                                     \n",
       "1              0.0  ...      0.0   0.0    1.0    0.0    0.0    0.0    0.0   \n",
       "2              0.0  ...      0.0   0.0    0.0    0.0    0.0    0.0    0.0   \n",
       "3              0.0  ...      1.0   0.0    0.0    0.0    0.0    0.0    0.0   \n",
       "4              0.0  ...      0.0   0.0    0.0    0.0    0.0    0.0    0.0   \n",
       "5              0.0  ...      0.0   0.0    0.0    0.0    0.0    0.0    0.0   \n",
       "\n",
       "article_id  993.0  996.0  997.0  \n",
       "user_id                          \n",
       "1             0.0    0.0    0.0  \n",
       "2             0.0    0.0    0.0  \n",
       "3             0.0    0.0    0.0  \n",
       "4             0.0    0.0    0.0  \n",
       "5             0.0    0.0    0.0  \n",
       "\n",
       "[5 rows x 714 columns]"
      ]
     },
     "execution_count": 42,
     "metadata": {},
     "output_type": "execute_result"
    }
   ],
   "source": [
    "# quick look at the matrix\n",
    "user_item_matrix.head()"
   ]
  },
  {
   "cell_type": "markdown",
   "metadata": {},
   "source": [
    "`2.` In this situation, you can use Singular Value Decomposition from [numpy](https://docs.scipy.org/doc/numpy-1.14.0/reference/generated/numpy.linalg.svd.html) on the user-item matrix.  Use the cell to perform SVD, and explain why this is different than in the lesson."
   ]
  },
  {
   "cell_type": "code",
   "execution_count": 43,
   "metadata": {},
   "outputs": [],
   "source": [
    "# Perform SVD on the User-Item Matrix Here\n",
    "\n",
    "u, s, vt = np.linalg.svd(user_item_matrix) # use the built in to get the three matrices"
   ]
  },
  {
   "cell_type": "code",
   "execution_count": 44,
   "metadata": {},
   "outputs": [
    {
     "data": {
      "text/plain": [
       "((714,), (5149, 5149), (714, 714))"
      ]
     },
     "execution_count": 44,
     "metadata": {},
     "output_type": "execute_result"
    }
   ],
   "source": [
    "s.shape, u.shape, vt.shape\n"
   ]
  },
  {
   "cell_type": "markdown",
   "metadata": {},
   "source": [
    "**Provide your response here.**"
   ]
  },
  {
   "cell_type": "markdown",
   "metadata": {},
   "source": [
    "`3.` Now for the tricky part, how do we choose the number of latent features to use?  Running the below cell, you can see that as the number of latent features increases, we obtain a lower error rate on making predictions for the 1 and 0 values in the user-item matrix.  Run the cell below to get an idea of how the accuracy improves as we increase the number of latent features."
   ]
  },
  {
   "cell_type": "code",
   "execution_count": 45,
   "metadata": {},
   "outputs": [
    {
     "data": {
      "image/png": "[encoded data removed]",
      "text/plain": [
       "<matplotlib.figure.Figure at 0x7fa72ea12a20>"
      ]
     },
     "metadata": {
      "needs_background": "light"
     },
     "output_type": "display_data"
    }
   ],
   "source": [
    "num_latent_feats = np.arange(10,700+10,20)\n",
    "sum_errs = []\n",
    "\n",
    "for k in num_latent_feats:\n",
    "    # restructure with k latent features\n",
    "    s_new, u_new, vt_new = np.diag(s[:k]), u[:, :k], vt[:k, :]\n",
    "    \n",
    "    # take dot product\n",
    "    user_item_est = np.around(np.dot(np.dot(u_new, s_new), vt_new))\n",
    "    \n",
    "    # compute error for each prediction to actual value\n",
    "    diffs = np.subtract(user_item_matrix, user_item_est)\n",
    "    \n",
    "    # total errors and keep track of them\n",
    "    err = np.sum(np.sum(np.abs(diffs)))\n",
    "    sum_errs.append(err)\n",
    "    \n",
    "    \n",
    "plt.plot(num_latent_feats, 1 - np.array(sum_errs)/df.shape[0]);\n",
    "plt.xlabel('Number of Latent Features');\n",
    "plt.ylabel('Accuracy');\n",
    "plt.title('Accuracy vs. Number of Latent Features');"
   ]
  },
  {
   "cell_type": "markdown",
   "metadata": {},
   "source": [
    "`4.` From the above, we can't really be sure how many features to use, because simply having a better way to predict the 1's and 0's of the matrix doesn't exactly give us an indication of if we are able to make good recommendations.  Instead, we might split our dataset into a training and test set of data, as shown in the cell below.  \n",
    "\n",
    "Use the code from question 3 to understand the impact on accuracy of the training and test sets of data with different numbers of latent features. Using the split below: \n",
    "\n",
    "* How many users can we make predictions for in the test set?  \n",
    "* How many users are we not able to make predictions for because of the cold start problem?\n",
    "* How many articles can we make predictions for in the test set?  \n",
    "* How many articles are we not able to make predictions for because of the cold start problem?"
   ]
  },
  {
   "cell_type": "code",
   "execution_count": 46,
   "metadata": {},
   "outputs": [],
   "source": [
    "df_train = df.head(40000)\n",
    "df_test = df.tail(5993)\n",
    "\n",
    "def create_test_and_train_user_item(df_train, df_test):\n",
    "    '''\n",
    "    INPUT:\n",
    "    df_train - training dataframe\n",
    "    df_test - test dataframe\n",
    "    \n",
    "    OUTPUT:\n",
    "    user_item_train - a user-item matrix of the training dataframe \n",
    "                      (unique users for each row and unique articles for each column)\n",
    "    user_item_test - a user-item matrix of the testing dataframe \n",
    "                    (unique users for each row and unique articles for each column)\n",
    "    test_idx - all of the test user ids\n",
    "    test_arts - all of the test article ids\n",
    "    \n",
    "    '''\n",
    "    # Your code here\n",
    "    # training user_item dataframe matrices\n",
    "    user_item_train = create_user_item_matrix(df_train)\n",
    "    \n",
    "    #  testing matrix of user_item dataframe \n",
    "    user_item_test = create_user_item_matrix(df_test)\n",
    "    \n",
    "    # Test user ids\n",
    "    test_idx = user_item_test.index\n",
    "    test_idx = list(set(test_idx))\n",
    "    \n",
    "    # Test article ids\n",
    "    test_arts = user_item_test.columns\n",
    "    test_arts = list(set(test_arts))\n",
    "    \n",
    "    return user_item_train, user_item_test, test_idx, test_arts\n",
    "\n",
    "user_item_train, user_item_test, test_idx, test_arts = create_test_and_train_user_item(df_train, df_test)"
   ]
  },
  {
   "cell_type": "code",
   "execution_count": 47,
   "metadata": {},
   "outputs": [
    {
     "data": {
      "text/plain": [
       "20"
      ]
     },
     "execution_count": 47,
     "metadata": {},
     "output_type": "execute_result"
    }
   ],
   "source": [
    "#'How many users can we make predictions for in the test set?'\n",
    "len(np.intersect1d(df_train['user_id'].unique(),df_test['user_id'].unique()))"
   ]
  },
  {
   "cell_type": "code",
   "execution_count": 48,
   "metadata": {},
   "outputs": [
    {
     "data": {
      "text/plain": [
       "662"
      ]
     },
     "execution_count": 48,
     "metadata": {},
     "output_type": "execute_result"
    }
   ],
   "source": [
    "# How many users in the test set are we not able to make predictions for because of the cold start problem?\n",
    "len(df_test['user_id'].unique()) - len(np.intersect1d(df_train['user_id'].unique(),df_test['user_id'].unique()))"
   ]
  },
  {
   "cell_type": "code",
   "execution_count": 49,
   "metadata": {},
   "outputs": [
    {
     "data": {
      "text/plain": [
       "574"
      ]
     },
     "execution_count": 49,
     "metadata": {},
     "output_type": "execute_result"
    }
   ],
   "source": [
    "# How many articles can we make predictions for in the test set?\n",
    "len(np.intersect1d(df_train['article_id'].unique(),df_test['article_id'].unique()))"
   ]
  },
  {
   "cell_type": "code",
   "execution_count": 50,
   "metadata": {},
   "outputs": [
    {
     "data": {
      "text/plain": [
       "0"
      ]
     },
     "execution_count": 50,
     "metadata": {},
     "output_type": "execute_result"
    }
   ],
   "source": [
    "# How many articles in the test set are we not able to make predictions for because of the cold start problem?\n",
    "len(df_test['article_id'].unique()) - len(np.intersect1d(df_train['article_id'].unique(),df_test['article_id'].unique()))"
   ]
  },
  {
   "cell_type": "code",
   "execution_count": null,
   "metadata": {},
   "outputs": [],
   "source": []
  },
  {
   "cell_type": "code",
   "execution_count": 51,
   "metadata": {},
   "outputs": [
    {
     "name": "stdout",
     "output_type": "stream",
     "text": [
      "Awesome job!  That's right!  All of the test articles are in the training data, but there are only 20 test users that were also in the training set.  All of the other users that are in the test set we have no data on.  Therefore, we cannot make predictions for these users using SVD.\n"
     ]
    }
   ],
   "source": [
    "# Replace the values in the dictionary below\n",
    "a = 662 \n",
    "b = 574 \n",
    "c = 20 \n",
    "d = 0 \n",
    "\n",
    "\n",
    "sol_4_dict = {\n",
    "    'How many users can we make predictions for in the test set?': c , \n",
    "    'How many users in the test set are we not able to make predictions for because of the cold start problem?': a , \n",
    "    'How many articles can we make predictions for in the test set?': b ,\n",
    "    'How many articles in the test set are we not able to make predictions for because of the cold start problem?': d\n",
    "}\n",
    "\n",
    "t.sol_4_test(sol_4_dict)"
   ]
  },
  {
   "cell_type": "markdown",
   "metadata": {},
   "source": [
    "`5.` Now use the **user_item_train** dataset from above to find U, S, and V transpose using SVD. Then find the subset of rows in the **user_item_test** dataset that you can predict using this matrix decomposition with different numbers of latent features to see how many features makes sense to keep based on the accuracy on the test data. This will require combining what was done in questions `2` - `4`.\n",
    "\n",
    "Use the cells below to explore how well SVD works towards making predictions for recommendations on the test data.  "
   ]
  },
  {
   "cell_type": "code",
   "execution_count": 52,
   "metadata": {},
   "outputs": [],
   "source": [
    "# fit SVD on the user_item_train matrix\n",
    "u_train, s_train, vt_train = np.linalg.svd(user_item_train) # fit svd similar to above then use the cells below"
   ]
  },
  {
   "cell_type": "code",
   "execution_count": 53,
   "metadata": {},
   "outputs": [
    {
     "data": {
      "text/plain": [
       "((714,), (4487, 4487), (714, 714))"
      ]
     },
     "execution_count": 53,
     "metadata": {},
     "output_type": "execute_result"
    }
   ],
   "source": [
    "# Use these cells to see how well you can use the training \n",
    "# decomposition to predict on test data\n",
    "s_train.shape, u_train.shape, vt_train.shape"
   ]
  },
  {
   "cell_type": "code",
   "execution_count": 54,
   "metadata": {},
   "outputs": [],
   "source": [
    "num_latent_feats = np.arange(10,700+10,20)\n",
    "errs_train_total = []\n",
    "errs_test_total = []\n",
    "\n",
    "\n",
    "#Decomposition\n",
    "row_idx = user_item_train.index.isin(test_idx)\n",
    "col_idx = user_item_train.columns.isin(test_arts)\n",
    "\n",
    "u_test = u_train[row_idx, :]\n",
    "vt_test = vt_train[:, col_idx]\n",
    "\n",
    "# test users that we can predict for\n",
    "predict_users = np.intersect1d(list(user_item_train.index),list(user_item_test.index))\n",
    "    \n",
    "for k in num_latent_feats:\n",
    "    # reorganize utilizing k latent features\n",
    "    s_train_2, u_train_2, vt_train_2 = np.diag(s_train[:k]), u_train[:, :k], vt_train[:k, :]\n",
    "    u_test_2, vt_test_2 = u_test[:, :k], vt_test[:k, :]\n",
    "    \n",
    "    # take dot product\n",
    "    user_item_train_preds = np.around(np.dot(np.dot(u_train_2, s_train_2), vt_train_2))\n",
    "    user_item_test_preds = np.around(np.dot(np.dot(u_test_2, s_train_2), vt_test_2))\n",
    "    \n",
    "    # convert each prediction's error to its actual value.\n",
    "    diffs_train = np.subtract(user_item_train, user_item_train_preds)\n",
    "    diffs_test = np.subtract(user_item_test.loc[predict_users,:], user_item_test_preds)\n",
    "    \n",
    "    # total mistakes and track them\n",
    "    err_train = np.sum(np.sum(np.abs(diffs_train)))\n",
    "    err_test = np.sum(np.sum(np.abs(diffs_test)))\n",
    "    \n",
    "    errs_train_total.append(err_train)\n",
    "    errs_test_total.append(err_test)"
   ]
  },
  {
   "cell_type": "code",
   "execution_count": 56,
   "metadata": {},
   "outputs": [
    {
     "data": {
      "image/png": "[encoded data removed]",
      "text/plain": [
       "<matplotlib.figure.Figure at 0x7fa72c812b00>"
      ]
     },
     "metadata": {},
     "output_type": "display_data"
    }
   ],
   "source": [
    "# plotting the test and training accuracy\n",
    "fig, ax1 = plt.subplots()\n",
    "\n",
    "color = 'tab:orange'\n",
    "ax1.set_xlabel('Number of Latent Features')\n",
    "ax1.set_ylabel('Accuracy for Training', color=color)\n",
    "ax1.plot(num_latent_feats, 1 - np.array(errs_train_total)/df.shape[0], color=color)\n",
    "ax1.tick_params(axis='y', labelcolor=color)\n",
    "ax1.set_title(' Number & Accuracy  of Latent Features')\n",
    "# Create a second axis with the same x-axis.\n",
    "ax2 = ax1.twinx()  \n",
    "color = 'tab:blue'\n",
    "#  handled the x-label with ax1\n",
    "ax2.set_ylabel('Accuracy for Test', color=color) \n",
    "ax2.plot(num_latent_feats, 1 - np.array(errs_test_total)/df.shape[0], color=color)\n",
    "ax2.tick_params(axis='y', labelcolor=color)\n",
    "# Otherwise, there is a slight clip on the right y-label.\n",
    "fig.tight_layout() \n",
    "plt.show()"
   ]
  },
  {
   "cell_type": "markdown",
   "metadata": {
    "collapsed": true
   },
   "source": [
    "`6.` Use the cell below to comment on the results you found in the previous question. Given the circumstances of your results, discuss what you might do to determine if the recommendations you make with any of the above recommendation systems are an improvement to how users currently find articles? "
   ]
  },
  {
   "cell_type": "markdown",
   "metadata": {},
   "source": [
    "From above, we can see that the accuracy of the training data rises as the number of latent features increases, whereas the accuracy of the test data falls in the opposite direction. This is no doubt due to overfitting of the information with the expansion in dormant elements, thusly the quantity of idle highlights ought to be kept somewhat low. SVD can only be used to make recommendations for the 20 users in both the training and test datasets, and the sparse matrix likely accounts for the high accuracy of the test data (>99 percent).\n",
    "It would be fascinating to take a gander at results assuming we had more clients that showed up in both the test and preparing information. We can see that the accuracy for test data starts to drop at around 80 features, so this would be a good number of latent features to include because beyond that, our accuracy for training increases while testing decreases. An A/B test for new users could help us solve the cold start issue and test how well our recommendation engine works in practice. \n",
    "For instance, you could use our recommendation engine to suggest articles to one group of users and then only the most popular ones to another group of users. In order to effectively determine whether our recommendation engine results in an increase in clicks, we would then compare the click through rates. We could conclude that our recommendation engine is effective and should be implemented if we observed a significant rise in clicks."
   ]
  },
  {
   "cell_type": "markdown",
   "metadata": {},
   "source": [
    "**Your response here.**"
   ]
  },
  {
   "cell_type": "markdown",
   "metadata": {
    "collapsed": true
   },
   "source": [
    "<a id='conclusions'></a>\n",
    "### Extras\n",
    "Using your workbook, you could now save your recommendations for each user, develop a class to make new predictions and update your results, and make a flask app to deploy your results.  These tasks are beyond what is required for this project.  However, from what you learned in the lessons, you certainly capable of taking these tasks on to improve upon your work here!\n",
    "\n",
    "\n",
    "## Conclusion\n",
    "\n",
    "> Congratulations!  You have reached the end of the Recommendations with IBM project! \n",
    "\n",
    "> **Tip**: Once you are satisfied with your work here, check over your report to make sure that it is satisfies all the areas of the [rubric](https://review.udacity.com/#!/rubrics/2322/view). You should also probably remove all of the \"Tips\" like this one so that the presentation is as polished as possible.\n",
    "\n",
    "\n",
    "## Directions to Submit\n",
    "\n",
    "> Before you submit your project, you need to create a .html or .pdf version of this notebook in the workspace here. To do that, run the code cell below. If it worked correctly, you should get a return code of 0, and you should see the generated .html file in the workspace directory (click on the orange Jupyter icon in the upper left).\n",
    "\n",
    "> Alternatively, you can download this report as .html via the **File** > **Download as** submenu, and then manually upload it into the workspace directory by clicking on the orange Jupyter icon in the upper left, then using the Upload button.\n",
    "\n",
    "> Once you've done this, you can submit your project by clicking on the \"Submit Project\" button in the lower right here. This will create and submit a zip file with this .ipynb doc and the .html or .pdf version you created. Congratulations! "
   ]
  },
  {
   "cell_type": "code",
   "execution_count": 57,
   "metadata": {},
   "outputs": [
    {
     "data": {
      "text/plain": [
       "0"
      ]
     },
     "execution_count": 57,
     "metadata": {},
     "output_type": "execute_result"
    }
   ],
   "source": [
    "from subprocess import call\n",
    "call(['python', '-m', 'nbconvert', 'Recommendations_with_IBM.ipynb'])"
   ]
  },
  {
   "cell_type": "code",
   "execution_count": null,
   "metadata": {},
   "outputs": [],
   "source": []
  }
 ],
 "metadata": {
  "kernelspec": {
   "display_name": "Python 3",
   "language": "python",
   "name": "python3"
  },
  "language_info": {
   "codemirror_mode": {
    "name": "ipython",
    "version": 3
   },
   "file_extension": ".py",
   "mimetype": "text/x-python",
   "name": "python",
   "nbconvert_exporter": "python",
   "pygments_lexer": "ipython3",
   "version": "3.6.3"
  }
 },
 "nbformat": 4,
 "nbformat_minor": 2
}
